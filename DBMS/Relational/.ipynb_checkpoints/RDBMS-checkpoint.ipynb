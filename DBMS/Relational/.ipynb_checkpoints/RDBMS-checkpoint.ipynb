{
 "cells": [
  {
   "cell_type": "markdown",
   "id": "35541e12-94fe-4930-a29c-80e8ecf2c7af",
   "metadata": {},
   "source": [
    "                                                                                        Alem Fitwi"
   ]
  },
  {
   "cell_type": "markdown",
   "id": "b683bd78-b7ab-4e93-8cc7-0fb0e6f98a0b",
   "metadata": {},
   "source": [
    "## <div class=\"alert alert-info\"> Packages"
   ]
  },
  {
   "cell_type": "code",
   "execution_count": 11,
   "id": "92ab3972-8a74-444f-a11d-5b1ec9f8dc71",
   "metadata": {},
   "outputs": [],
   "source": [
    "# Standard/Built-in Modules\n",
    "#---------------------------------------------------\n",
    "import os\n",
    "import re\n",
    "import gc\n",
    "import sys\n",
    "import math\n",
    "import warnings\n",
    "from time import perf_counter as pc\n",
    "warnings.filterwarnings('ignore')\n",
    "from concurrent.futures import ThreadPoolExecutor as tpe\n",
    "from concurrent.futures import ProcessPoolExecutor as ppe\n",
    "\n",
    "# Third-party Modules\n",
    "#---------------------------------------------------\n",
    "# DIP\n",
    "import cv2\n",
    "import scipy\n",
    "import scipy.fft\n",
    "import numpy as np\n",
    "import pandas as pd\n",
    "from PIL import Image\n",
    "from scipy import ndimage\n",
    "from IPython.display import Image as dimg\n",
    "from scipy.fftpack import dct, idct # dct(x, type=2)\n",
    "from skimage.measure import block_reduce\n",
    "from scipy.ndimage import map_coordinates\n",
    "from skimage.filters import threshold_otsu\n",
    "from skimage.filters import threshold_multiotsu\n",
    "\n",
    "# Data\n",
    "import sqlite3\n",
    "import pandas as pd\n",
    "from glob import glob\n",
    "\n",
    "# Plotting\n",
    "import seaborn as sns\n",
    "import matplotlib.pyplot as plt\n",
    "from matplotlib import patches\n",
    "from matplotlib.pyplot import figure, imshow, axis\n",
    "\n",
    "\n",
    "# User Defined\n",
    "#---------------------------------------------------\n",
    "\n",
    "\n",
    "# Global Vars\n",
    "#---------------------------------------------------\n"
   ]
  },
  {
   "cell_type": "markdown",
   "id": "69bf6725-747e-4a93-8049-752de797377c",
   "metadata": {},
   "source": [
    "## <div class=\"alert alert-danger\"> SQL Introduction"
   ]
  },
  {
   "cell_type": "code",
   "execution_count": 45,
   "id": "1ed9028a-4370-4f88-976b-fd2f5345168a",
   "metadata": {},
   "outputs": [],
   "source": [
    "#!pip install dash_daq"
   ]
  },
  {
   "cell_type": "code",
   "execution_count": 47,
   "id": "ebb5c379-530e-48be-b845-78a8b7a296f3",
   "metadata": {},
   "outputs": [],
   "source": [
    "#Files, I/O, regular expressions and OS\n",
    "import os\n",
    "import io\n",
    "import re\n",
    "import sys\n",
    "import glob\n",
    "import shutil\n",
    "\n",
    "#*************************************\n",
    "# Data Structures\n",
    "import numpy as np\n",
    "import pandas as pd\n",
    "#*************************************\n",
    "# Database\n",
    "import base64\n",
    "import sqlite3\n",
    "from sqlalchemy import create_engine\n",
    "from IPython.display import Image\n",
    "\n",
    "#*************************************\n",
    "# Time and Dates\n",
    "import time\n",
    "from time import perf_counter as pc\n",
    "from datetime import date,timedelta\n",
    "from datetime import datetime as dtt\n",
    "\n",
    "#*************************************\n",
    "# Dash and Dash Components\n",
    "import dash\n",
    "import dash_auth\n",
    "import dash_daq as daq\n",
    "import dash_table as dt\n",
    "import plotly.graph_objs as go\n",
    "import dash_core_components as dcc\n",
    "import dash_html_components as html\n",
    "from plotly.subplots import make_subplots\n",
    "from dash.dependencies import Input, Output, State\n",
    "\n",
    "#*************************************\n",
    "# Otherss\n",
    "import uuid\n",
    "import flask\n",
    "import socket\n",
    "import random\n",
    "import urllib\n",
    "import getpass\n",
    "import warnings\n",
    "import platform\n",
    "#import netifaces\n",
    "from math import ceil, floor\n",
    "warnings.simplefilter(\"ignore\")\n",
    "\n",
    "#*************************************\n",
    "# Paths and user defined Packages\n",
    "from sys import path"
   ]
  },
  {
   "cell_type": "markdown",
   "id": "2ae138eb-940f-481b-8b0b-3d1d05b09c58",
   "metadata": {},
   "source": [
    "- **Database(DB)**: An organized collection of data so that it can be easily accessed.\n",
    "  - PC $\\rightarrow$ DBMS $\\rightarrow$ Database\n",
    "  - SQL stands for Structured Query Language\n",
    "\n",
    "- **Types of DBs**: In a broad sense, they are of two types\n",
    "  - **Relational DB**: Data is stored in organized table format containing fields/observations/attributes/columns and records/tuple/rows\n",
    "    - **Row/Record/Tuple**: a collection of data that's organized into fields within a table. A single (row of) data item in a database table.\n",
    "    - **Column/Field/Observation/Attribute**:\n",
    "    - Example: MySQL, Oracle, ...\n",
    "\n",
    "                    RollNumber         Name                 Class\n",
    "                        1              AHF                   23\n",
    "                        2              FMG                   13\n",
    "                        3              BAH                   2\n",
    "                        4              EAH                   1\n",
    "\n",
    "  - **NonRelational DB**: Data is stored in hash-tables (key-value pairs) or dictionaries\n",
    "  - Example: MangoDB, Redis\n",
    " \n",
    "                   {'RollNumber': [1,2,3,4],\n",
    "                    'Name': ['AHF', 'FMG', 'BAH', 'EAH'],\n",
    "                    'Class': [23, 13, 2, 1]}\n",
    " "
   ]
  },
  {
   "cell_type": "markdown",
   "id": "1eba7353-dc68-48bc-b93e-3659f9c34a08",
   "metadata": {},
   "source": [
    "- **SQL** is used for creating, updating, deleting, inserting, and selecting data stored in relational DB (tables).\n",
    "  - PC $\\rightarrow$ DBMS $\\rightarrow$ SQL $\\rightarrow$ Relational Database"
   ]
  },
  {
   "cell_type": "markdown",
   "id": "2994b100-9001-47b1-86bb-ac59fb956dc9",
   "metadata": {},
   "source": [
    "## SQL CREATE COMMAND\n",
    "- Used for creating tables\n",
    "- Syntax:\n",
    "\n",
    "                  CREATE TABLE \"table_name\" (\n",
    "                \t\"FN\"\tTEXT NOT NULL,\n",
    "                \t\"LN\"\tTEXT NOT NULL,\n",
    "                \t\"EA\"\tTEXT,\n",
    "                \t\"PWD\"\tTEXT,\n",
    "                \t\"ID\"\tINTEGER NOT NULL UNIQUE,\n",
    "                \tPRIMARY KEY(\"ID\")\n",
    "                 );\n",
    "- SQL Keywords are case-insensitive; in MySQL, it is an option you can either turn on or off."
   ]
  },
  {
   "cell_type": "markdown",
   "id": "f704ccce-35c3-468c-bc62-70986d9eafdc",
   "metadata": {},
   "source": [
    "## SQL INSERT COMMAND\n",
    "- Used to insert data into tables in DB\n",
    "- Syntax:\n",
    "  - Single Record:\n",
    "                     \n",
    "                  INSERT INTO TABLE \"table_name\" (col1, col2, col3, ...)\n",
    "                  VALUES(A, F, A@gmail.com, ...);\n",
    "  - Multiple records:\n",
    "\n",
    "                  INSERT INTO TABLE \"table_name\" (col1, col2, col3, ...)\n",
    "                  VALUES(A, F, A@gmail.com, ...), (E, H, E@gmail.com, ...), (T, G, T@gmail.com, ...);\n",
    "\n",
    "- A row of db table is known as a record or a tuple\n",
    "- A column of db is known as an attribute."
   ]
  },
  {
   "cell_type": "markdown",
   "id": "42301e72-694f-4207-b73e-4a80c288d70e",
   "metadata": {},
   "source": [
    "## SQL SELECT COMMAND\n",
    "- Used to retrieve data from tables in DB\n",
    "- Syntax:\n",
    "  - Select Some Arributes:\n",
    "                     \n",
    "                  SELECT col1, col2, col3, ... \n",
    "                  FROM table_name;\n",
    "  - Select Complete table using *(asterisk or star):\n",
    "\n",
    "                  SELECT *\n",
    "                  FROM table_name;\n",
    "    "
   ]
  },
  {
   "cell_type": "markdown",
   "id": "38adce51-238e-43ff-94e5-57e4fce5a407",
   "metadata": {},
   "source": [
    "## <div class=\"alert alert-success\"> SQL WORKING PRINCIPLES"
   ]
  },
  {
   "cell_type": "markdown",
   "id": "dbc8724e-82e0-4a1b-9604-c66160d36e1c",
   "metadata": {},
   "source": [
    "- SQL Query $\\rightarrow$ Query Language Processor(Passer + Optimizer) $\\rightarrow$ DBMS Engine (File Manager + Transaction Manager) $\\rightarrow$ Physical DB"
   ]
  },
  {
   "cell_type": "markdown",
   "id": "aa0ceaba-a721-4876-97e2-634601394b34",
   "metadata": {},
   "source": [
    "### Passing:\n",
    "- Query statements are tokenized\n",
    "### Optimizer:\n",
    "- Optimizes the best algorithm for the byte code\n",
    "### FROM:\n",
    "- It is used to specify the tables from which dta fetched\n",
    "### WHERE:\n",
    "- used to filter records based on the given condition\n",
    "### GROUP BY:\n",
    "- used to combine  data from tables based on given requirements\n",
    "### HAVING:\n",
    "- used to filter groups\n",
    "### ORDER BY:\n",
    "- used to sort the data in ascending(ASC) or descending order(DSC).\n",
    "### SELECT:\n",
    "- used to retrieve data from the table\n",
    "### LIMIT:\n",
    "- used to specify how many rows are selected."
   ]
  },
  {
   "cell_type": "markdown",
   "id": "79c979ba-907a-41a1-b1e2-e53e17cb9db6",
   "metadata": {},
   "source": [
    "## <div class=\"alert alert-warning\"> SQL Constraints"
   ]
  },
  {
   "cell_type": "markdown",
   "id": "d56dcd41-d2e8-4f13-80dc-09f697624aa5",
   "metadata": {},
   "source": [
    "**Constraints**: rules and restrictions applied on the data in a table. These constraints also known as ***Integrity***.\n",
    "- NOTNULL: value cannot be null in a column\n",
    "- UNIQUE: values cannot be the same in a column\n",
    "- PRIMARY KEY: used to uniquely identify a row.\n",
    "- FOREIGN KEY: used to reference a row in another table.\n",
    "- CHECK: satisfies a specific condition.\n",
    "- DEFAULT: sets default value\n",
    "- CREATE INDEX: used to speedup the reading process\n",
    "\n",
    "**SQL QUERY EXECUTION ORDER**:\n",
    "$FROM \\rightarrow JOIN \\rightarrow WHERE \\rightarrow GROUP BY \\rightarrow HAVING \\rightarrow SELECT \\rightarrow ORDER BY \\rightarrow LIMIT$"
   ]
  },
  {
   "cell_type": "markdown",
   "id": "693bc3f2-eac7-453e-808d-322dbc00d187",
   "metadata": {},
   "source": [
    "## <div class=\"alert alert-info\"> Difference Between ALTER and UPDATE"
   ]
  },
  {
   "cell_type": "markdown",
   "id": "5a34c8b1-3caf-4999-b827-d37778eb27a4",
   "metadata": {},
   "source": [
    "- ALTER:\n",
    "    - A DDL\n",
    "    - Used for adding deleting, and modifying attributes of a table\n",
    "    - Changes are made to the table structure.\n",
    "    - By default, all the values in the table are initialized as null if the ALTER command is used.\n",
    "- UPDATE:\n",
    "    - A DML\n",
    "    - Used for updating the datain the existing table\n",
    "    - Changes are made to the data.\n",
    "    - Sets the specified value to the tuple if update commnd is used"
   ]
  },
  {
   "cell_type": "markdown",
   "id": "388df90a-60ec-4df0-9efa-75ca90f36196",
   "metadata": {},
   "source": [
    "## SQL SELECT DISTINCT COMMAND\n",
    "- Used to retrieve/return only unique values from a specified column in a a table in a DB\n",
    "- Syntax:\n",
    "\n",
    "                  SELECT DISTINCT col1, col2, col3, ... \n",
    "                  FROM table_name;"
   ]
  },
  {
   "cell_type": "markdown",
   "id": "7f2998dc-f4cb-446c-aad7-cb9c4d712580",
   "metadata": {},
   "source": [
    "## SQL WHERE CLAUSE\n",
    "- Used to filter rows in a table based on a specified condition.\n",
    "- Syntax:\n",
    "\n",
    "                  SELECT col1, col2, col3, ... \n",
    "                  FROM table_name\n",
    "                  WHERE condition;"
   ]
  },
  {
   "cell_type": "markdown",
   "id": "2ab69b6c-cc22-43df-8867-5706da8a4f74",
   "metadata": {},
   "source": [
    "## SQL AND\n",
    "- Returns true if both conditions are true, and false otherwise.\n",
    "- Syntax:\n",
    "\n",
    "                  SELECT col1, col2, col3, ... \n",
    "                  FROM table_name\n",
    "                  WHERE condition1 AND condition2 AND condition3;"
   ]
  },
  {
   "cell_type": "markdown",
   "id": "d61f66dd-3b87-480f-bf73-89e780d4cfbe",
   "metadata": {},
   "source": [
    "## SQL OR\n",
    "- Returns true if either condition is true, and false both conditions are false.\n",
    "- Syntax:\n",
    "\n",
    "                  SELECT col1, col2, col3, ... \n",
    "                  FROM table_name\n",
    "                  WHERE condition1 OR condition2 OR condition3;\n",
    "\n",
    "- AND, OR & NOT operators are used to combine condition in a where-clause to create more complex filtering conditions."
   ]
  },
  {
   "cell_type": "markdown",
   "id": "2914dc4f-6e67-4270-99e0-f60c2058cd87",
   "metadata": {},
   "source": [
    "## SQL ORDER BY\n",
    "- Used to sort the results of a query in ascending or descending order..\n",
    "- Syntax:\n",
    "\n",
    "                  SELECT col1, col2, col3, ... \n",
    "                  FROM table_name\n",
    "                  ORDER BY col1 [ASC]/[DESC], col2, col3[ASC]/[DESC], ...;\n",
    "- ASC: used to sort data in ascending order (default one).\n",
    "- DESC: used to sort data in descending order."
   ]
  },
  {
   "cell_type": "markdown",
   "id": "b750fa03-51ae-4e82-bece-d85716be3527",
   "metadata": {},
   "source": [
    "## SQL INSERT COMMAND\n",
    "- Used to insert data into tables in DB\n",
    "- Syntax:\n",
    "  - Single Record:\n",
    "                     \n",
    "                  INSERT INTO \"table_name\" (col1, col2, col3, ...)\n",
    "                  VALUES(A, F, A@gmail.com, ...);\n",
    "  - Multiple records:\n",
    "\n",
    "                  INSERT INTO \"table_name\" (col1, col2, col3, ...)\n",
    "                  VALUES(A, F, A@gmail.com, ...), (E, H, E@gmail.com, ...), (T, G, T@gmail.com, ...);\n",
    "\n",
    "- NB: There must be the same number of values as the number of columns specified."
   ]
  },
  {
   "cell_type": "markdown",
   "id": "99e72831-d06a-41b5-9c00-742d26d625fe",
   "metadata": {},
   "source": [
    "## SQL NULL VALUES\n",
    "- Used to represent missing values or Unknown data\n",
    "- Syntax:\n",
    "     \n",
    "                  INSERT INTO \"table_name\" (col1, col2, col3, ...)\n",
    "                  VALUES(A, F, NULL, ...);\n",
    "\n",
    "- To Check for NULL values:\n",
    "    - IS NULL\n",
    " \n",
    "                  SELECT col1, col2, col3, ... \n",
    "                  FROM table_name\n",
    "                  WHERE col1 IS NULL;\n",
    "    - IS NOT NULL\n",
    "\n",
    "                  SELECT col1, col2, col3, ... \n",
    "                  FROM table_name\n",
    "                  WHERE col1 IS NOT NULL;\n"
   ]
  },
  {
   "cell_type": "markdown",
   "id": "4c904e10-3e1c-4d43-ae19-d745a7f2d3ff",
   "metadata": {},
   "source": [
    "## SQL UPDATE COMMAND\n",
    "- Used to modify existing data in a tables in DB\n",
    "- Syntax:\n",
    "                     \n",
    "                  UPDATE \"table_name\"\n",
    "                  SET col1=val1, co2=val2, ...\n",
    "                  WHERE some_col=some_val;\n",
    "- ***SET***: used to specify the column to be updated and values to be set."
   ]
  },
  {
   "cell_type": "markdown",
   "id": "9a2ed67b-02ce-4660-b512-7fb7f183bae6",
   "metadata": {},
   "source": [
    "## SQL DELETE COMMAND\n",
    "- Used to remove existing record from a tables in an SQL DB\n",
    "- Syntax:\n",
    "                 \n",
    "              DELETE FROM \"table_name\" WHERE condition;\n",
    "  \n",
    "- ***Note***: This operation is not reversible; so, be careful when using DELETE statement."
   ]
  },
  {
   "cell_type": "markdown",
   "id": "642d0ae9-2606-401a-894f-30893ebda033",
   "metadata": {},
   "source": [
    "## <div class=\"alert alert-warning\"> SQL WILDCARDS"
   ]
  },
  {
   "cell_type": "markdown",
   "id": "f99e15f1-f6e7-468f-bb36-3cf7057ccc8e",
   "metadata": {},
   "source": [
    "- Wildcards are special chracters used in SQL\n",
    "    - 'LIKE' operator to search for specific pattern in a column of  a table.\n",
    "    - The percent (%) represents zero, one, or multiple characters.\n",
    "    - The underscore(_) represents one, single chracter.\n",
    "- **SQ LIKE**: used to search for a specific pttern in a column of a table.\n",
    "    - Syntax:\n",
    "\n",
    "                  SELECT col1, col2, col3, ... \n",
    "                  FROM table_name\n",
    "                  WHERE col1 LIKE pattern;\n",
    "- **SQL IN**: used to specify multiple values in a WHERE caluse filtering data.\n",
    "    - Syntax:\n",
    "\n",
    "                  SELECT col1, col2, col3, ... \n",
    "                  FROM table_name\n",
    "                  WHERE col1 IN(val1, val2, val3, ...);\n",
    "      \n",
    "- **SQL BETWEEN**: used to filter data based on a range of values in a WHERE clause.\n",
    "    - Syntax:\n",
    " \n",
    "                  SELECT col1, col2, col3, ... \n",
    "                  FROM table_name\n",
    "                  WHERE col1 BETWEEN val1 AND val2;\n",
    "- **SQL ALIAS**: used to give temporary name to a table or a column in a query.\n",
    "  - Syntax:\n",
    " \n",
    "                  SELECT col1 as alias_name\n",
    "                  FROM table_name;"
   ]
  },
  {
   "cell_type": "markdown",
   "id": "18d6674f-29b3-495d-8a67-a9a4400aba72",
   "metadata": {},
   "source": [
    "## <div class=\"alert alert-success\"> SQL Common Table Expressions (CTE)"
   ]
  },
  {
   "cell_type": "markdown",
   "id": "520c7822-15bf-4b1b-a68c-5cf6c0f3eb4e",
   "metadata": {},
   "source": [
    "***Subqueries***\n",
    "\n",
    "- A Subquery or Inner query or Nested query is a query within another SQLite query and embedded within the WHERE clause.\n",
    "- Subqueries can be used with the SELECT, INSERT, UPDATE, and DELETE statements along with the operators such as =, <, >, >=, <=, IN, BETWEEN, etc.\n",
    "- Rules:\n",
    "   - Subqueries must be enclosed within parentheses.\n",
    "   - A subquery can have only one column in the SELECT clause, unless multiple columns are in the main query for the subquery to compare its selected columns.\n",
    "   - An ORDER BY cannot be used in a subquery, although the main query can use an ORDER BY. The GROUP BY can be used to perform the same function as the ORDER BY in a subquery.\n",
    "   - Subqueries that return more than one row can only be used with multiple value operators, such as the IN operator.\n",
    "   - BETWEEN operator cannot be used with a subquery; however, BETWEEN can be used within the subquery.\n",
    "\n",
    "- Subqueries with SELECT Statement\n",
    "  - Subqueries are most frequently used with the SELECT statement. The basic syntax is as follows −\n",
    " \n",
    "            SELECT column_name [, column_name ]\n",
    "            FROM table1 [, table2 ]\n",
    "            WHERE column_name OPERATOR\n",
    "               (SELECT column_name [, column_name ]\n",
    "                  FROM table1 [, table2 ]\n",
    "                  [WHERE])"
   ]
  },
  {
   "cell_type": "code",
   "execution_count": 147,
   "id": "452e7d5b-96fa-481d-a45d-ea36f1839a4c",
   "metadata": {},
   "outputs": [],
   "source": [
    "import sqlite3\n",
    "\n",
    "# Connect to an SQLite database (or create it if it doesn't exist)\n",
    "conn = sqlite3.connect('EDB.db')\n",
    "\n",
    "# Create a cursor object using the cursor() method\n",
    "cursor = conn.cursor()\n",
    "\n",
    "# Create table\n",
    "cursor.execute('''CREATE TABLE IF NOT EXISTS ETBL1\n",
    "             (ID int, NAME text, AGE text, ADDRESS text, SALARY real)''')\n",
    "\n",
    "# Insert a row of data\n",
    "cursor.execute(\"INSERT INTO ETBL1 VALUES ('1', 'A','30','CA',50000)\")\n",
    "cursor.execute(\"INSERT INTO ETBL1 VALUES ('2', 'S','22','TX',100000)\")\n",
    "cursor.execute(\"INSERT INTO ETBL1 VALUES ('3', 'E','28','NWY',60000)\")\n",
    "cursor.execute(\"INSERT INTO ETBL1 VALUES ('4', 'D','25','RM',105000)\")\n",
    "cursor.execute(\"INSERT INTO ETBL1 VALUES ('5', 'P','22','TX',60000)\")\n",
    "cursor.execute(\"INSERT INTO ETBL1 VALUES ('6', 'B','42','SH',40000)\")\n",
    "cursor.execute(\"INSERT INTO ETBL1 VALUES ('7', 'M','42','HTN',70000)\")\n",
    "\n",
    "# Save (commit) the changes\n",
    "conn.commit()\n",
    "\n",
    "# Close the connection\n",
    "conn.close()"
   ]
  },
  {
   "cell_type": "code",
   "execution_count": 155,
   "id": "0c479fee-853a-4b3a-b26b-70f8ec55ed96",
   "metadata": {},
   "outputs": [
    {
     "name": "stdout",
     "output_type": "stream",
     "text": [
      "[(2, 'S', '22', 'TX', 100000.0), (4, 'D', '25', 'RM', 105000.0), (7, 'M', '42', 'HTN', 70000.0)]\n"
     ]
    }
   ],
   "source": [
    "conn = sqlite3.connect('EDB.db')\n",
    "cursor = conn.cursor()\n",
    "\n",
    "sql_query = \"\"\"SELECT * \n",
    "               FROM ETBL1\n",
    "               WHERE NAME IN (SELECT NAME\n",
    "                  FROM ETBL1\n",
    "                  WHERE SALARY > 60000) ;\"\"\"\n",
    "cursor.execute(sql_query)\n",
    "rows = cursor.fetchall()\n",
    "print(rows)\n",
    "\n",
    "# Save (commit) the changes\n",
    "conn.commit()\n",
    "\n",
    "# Close the connection\n",
    "conn.close()"
   ]
  },
  {
   "cell_type": "code",
   "execution_count": 157,
   "id": "7da62e57-20c4-4195-95be-8b7c27faea43",
   "metadata": {},
   "outputs": [],
   "source": [
    "conn = sqlite3.connect('EDB.db')\n",
    "cursor = conn.cursor()\n",
    "\n",
    "# Create table\n",
    "cursor.execute('''CREATE TABLE IF NOT EXISTS ETBL1_BKP\n",
    "             (ID int, NAME text, AGE text, ADDRESS text, SALARY real)''')\n",
    "\n",
    "sql_query = \"\"\"INSERT INTO ETBL1_BKP\n",
    "               SELECT * FROM ETBL1 \n",
    "               WHERE ID IN (SELECT ID \n",
    "                  FROM ETBL1) ;\"\"\"\n",
    "cursor.execute(sql_query)\n",
    "\n",
    "# Save (commit) the changes\n",
    "conn.commit()\n",
    "\n",
    "# Close the connection\n",
    "conn.close()"
   ]
  },
  {
   "cell_type": "markdown",
   "id": "9f22e07f-620a-4f84-b471-5dfc681a245f",
   "metadata": {},
   "source": [
    "- https://www.geeksforgeeks.org/cte-in-sql/"
   ]
  },
  {
   "cell_type": "markdown",
   "id": "09f937cc-57f1-4171-9d1e-29ba4938f87c",
   "metadata": {},
   "source": [
    "***CTE***:\n",
    "\n",
    "- Common Table Expression (CTE) is an essential tool for simplifying complex queries and making them more readable.\n",
    "- By defining temporary result sets that can be referenced multiple times.\n",
    "-  CTE in SQL allows developers to break down complicated logic into manageable parts.\n",
    "-  CTEs help with hierarchical data representation, improve code reusability, and simplify maintenance.\n",
    "\n",
    "***Why do We Need CTE in the SQL?***:\n",
    "\n",
    "- A Common Table Expression (CTE) in SQL is a temporary result set that is defined and used within the execution scope of a SELECT, INSERT, UPDATE, or DELETE statement.\n",
    "- CTEs are defined using the ***WITH clause*** and can be referenced multiple times within the main SQL query. This makes CTEs a great alternative to subqueries, especially in cases where we need to perform the ***same operation multiple times*** or create recursive queries.\n",
    "\n",
    "\n",
    "***Why Use CTEs in SQL?***\n",
    "- CTEs simplify query writing and maintenance by:\n",
    "  - Breaking down complex queries into smaller, reusable components.\n",
    "  - Improving code readability and modularity.\n",
    "  - Enabling recursive operations for hierarchical data\n",
    "\n",
    "***Syntax***:\n",
    "\n",
    "        WITH cte_name AS (\n",
    "            SELECT query\n",
    "        )\n",
    "        SELECT *\n",
    "        FROM cte_name;\n",
    "- Key Terms\n",
    "  - cte_name: A unique name for the CTE expression.\n",
    "  - query: A valid SQL query that returns a result set, which will be treated as a ***virtual table*** within the main query.\n",
    "  - SELECT: The main query that can reference the CTE by its name.     "
   ]
  },
  {
   "cell_type": "code",
   "execution_count": 112,
   "id": "0c401276-14cc-4b5f-bcb9-35067e0c79da",
   "metadata": {},
   "outputs": [],
   "source": [
    "import sqlite3\n",
    "\n",
    "# Connect to an SQLite database (or create it if it doesn't exist)\n",
    "conn = sqlite3.connect('EDB.db')\n",
    "\n",
    "# Create a cursor object using the cursor() method\n",
    "cursor = conn.cursor()\n",
    "\n",
    "# Create table\n",
    "cursor.execute('''CREATE TABLE IF NOT EXISTS ETBL\n",
    "             (Name text, Age text, Dept text, Salary real)''')\n",
    "\n",
    "# Insert a row of data\n",
    "cursor.execute(\"INSERT INTO ETBL VALUES ('A','30','Finance',50000)\")\n",
    "cursor.execute(\"INSERT INTO ETBL VALUES ('S','22','ENG',100000)\")\n",
    "cursor.execute(\"INSERT INTO ETBL VALUES ('E','28','Finance',60000)\")\n",
    "cursor.execute(\"INSERT INTO ETBL VALUES ('D','25','ENG',105000)\")\n",
    "cursor.execute(\"INSERT INTO ETBL VALUES ('P','22','Sales',60000)\")\n",
    "cursor.execute(\"INSERT INTO ETBL VALUES ('B','42','Sales',40000)\")\n",
    "\n",
    "# Save (commit) the changes\n",
    "conn.commit()\n",
    "\n",
    "# Close the connection\n",
    "conn.close()"
   ]
  },
  {
   "cell_type": "code",
   "execution_count": 126,
   "id": "033efa1b-8876-4a4e-8f83-2750ca17f184",
   "metadata": {},
   "outputs": [
    {
     "name": "stdout",
     "output_type": "stream",
     "text": [
      "[('ENG', 102500.0), ('Finance', 55000.0), ('Sales', 50000.0)]\n"
     ]
    }
   ],
   "source": [
    "conn = sqlite3.connect('EDB.db')\n",
    "cursor = conn.cursor()\n",
    "\n",
    "sql_query = \"\"\"WITH AvgSalaryByDept AS (\n",
    "                    SELECT Dept, AVG(Salary) AS AvgSalary\n",
    "                    FROM ETBL\n",
    "                    GROUP BY Dept\n",
    "                )\n",
    "                SELECT *\n",
    "                FROM AvgSalaryByDept;\"\"\"\n",
    "cursor.execute(sql_query)\n",
    "rows = cursor.fetchall()\n",
    "print(rows)\n",
    "\n",
    "# Save (commit) the changes\n",
    "conn.commit()\n",
    "\n",
    "# Close the connection\n",
    "conn.close()"
   ]
  },
  {
   "cell_type": "markdown",
   "id": "b8ba3bc8-9ad3-4200-8604-3262a500d763",
   "metadata": {},
   "source": [
    "- Explanation:\n",
    "    - The WITH clause defines a CTE named AvgSalaryByDept.\n",
    "    - The main query references this CTE to retrieve the average salary for each department."
   ]
  },
  {
   "cell_type": "markdown",
   "id": "23892097-1cdd-404b-a0e8-373f7938089c",
   "metadata": {},
   "source": [
    "- ***Recursive Common Table Expression***: \n",
    "    - A recursive CTE is one that references itself within that CTE. The recursive CTE is useful when working with hierarchical data as the CTE continues to execute until the query returns the entire hierarchy. \n",
    "    - A typical example of hierarchical data is a table that includes a list of employees. For every employee, the table provides a reference to that person’s manager. That reference is itself an employee ID within the same table. We can use a recursive CTE to display the hierarchy of employee data. \n",
    "    - If a CTE is created incorrectly it can enter an infinite loop. To prevent this, the MAXRECURSION hint can be added in the OPTION clause of the primary SELECT, INSERT, UPDATE, DELETE, or MERGE statement.\n"
   ]
  },
  {
   "cell_type": "code",
   "execution_count": null,
   "id": "ce3e19c7-4838-4f52-9004-bbe5cc314a6e",
   "metadata": {},
   "outputs": [],
   "source": [
    "WITH\n",
    "  cteReports (EmpID, FirstName, LastName, MgrID, EmpLevel)\n",
    "  AS\n",
    "  (\n",
    "    SELECT EmployeeID, FirstName, LastName, ManagerID, 1\n",
    "    FROM Employees\n",
    "    WHERE ManagerID IS NULL\n",
    "    UNION ALL\n",
    "    SELECT e.EmployeeID, e.FirstName, e.LastName, e.ManagerID, \n",
    "      r.EmpLevel + 1\n",
    "    FROM Employees e\n",
    "      INNER JOIN cteReports r\n",
    "        ON e.ManagerID = r.EmpID\n",
    "  )\n",
    "\n",
    "SELECT\n",
    "  FirstName + ' ' + LastName AS FullName, \n",
    "  EmpLevel,\n",
    "  (SELECT FirstName + ' ' + LastName FROM Employees \n",
    "    WHERE EmployeeID = cteReports.MgrID) AS Manager\n",
    "FROM cteReports \n",
    "ORDER BY EmpLevel, MgrID "
   ]
  },
  {
   "cell_type": "markdown",
   "id": "b9577c5e-6c51-4e8c-aa94-e0360c216ca5",
   "metadata": {},
   "source": [
    "- Explanation:\n",
    "    - The anchor member selects employees with no manager (ManagerID IS NULL), establishing the base level.\n",
    "    - The recursive member joins the CTE to the table, incrementing the level for each subordinate employee."
   ]
  },
  {
   "cell_type": "markdown",
   "id": "ad7ffd88-2fe8-4c79-8de8-13bf81cff290",
   "metadata": {},
   "source": [
    "- Benefits of Using CTEs in SQL\n",
    "  - Improved Readability: CTEs help break down complex queries into modular, reusable components, improving code readability and maintainability.\n",
    "  - Reusability: Once defined, a CTE can be referenced multiple times within the same query, reducing the need for repetitive code.\n",
    "  - Simplifies Complex Queries: By using CTEs, especially recursive CTEs, complex operations like hierarchical data queries become much easier to manage.\n",
    "  - Query Optimization: SQL engines can optimize queries that use CTEs more efficiently, improving performance, especially when the same result set needs to be accessed multiple times.\n",
    "- Limitations of CTEs in SQL\n",
    "  - Temporary Scope: A CTE exists only during the execution of the query. Once the query completes, the CTE is discarded.\n",
    "  - Performance Issues: For very large datasets, CTEs can sometimes lead to performance degradation due to multiple references to the same CTE.\n",
    "  - Not Allowed in All Database Operations: Some operations, such as INSERT and UPDATE, may have restrictions when using CTEs in certain databases.\n",
    "- CTE vs Subqueries:\n",
    "  - Reuasbaility: CTE can be refrenced multiple times; Subquery typically used once.\n",
    "  - Readbaility: CTE improves readibility for complex queries; subquery can beome difficult to read when nested\n",
    "  - Performance: CTE is optimized for multiple references; subquery may be less efficient for repeated operations."
   ]
  },
  {
   "cell_type": "markdown",
   "id": "845e5837-da5c-48ed-aaec-6bbbc7ba3b99",
   "metadata": {},
   "source": [
    "***Conclusion***\n",
    "\n",
    "- In summary, Common Table Expressions (CTEs) are a valuable feature in SQL, enhancing query readability, modularity, and performance. By using CTEs, developers can simplify complex queries, especially those involving hierarchical data or repeated subqueries. Whether we’re using CTEs in SQL Server, PostgreSQL, or Azure, understanding how to define and use them effectively will empower us to write cleaner, more efficient SQL queries."
   ]
  },
  {
   "cell_type": "markdown",
   "id": "4d8781f2-11f6-478f-b496-88222708ad36",
   "metadata": {},
   "source": [
    "## <div class=\"alert alert-danger\"> Example"
   ]
  },
  {
   "cell_type": "code",
   "execution_count": 166,
   "id": "9a786f46-bd3a-4a38-990d-f3b057561c6f",
   "metadata": {},
   "outputs": [],
   "source": [
    "#******************************************************************************\n",
    "#******************************************************************************\n",
    "# 4. Adding Current files to the Database\n",
    "#******************************************************************************\n",
    "#******************************************************************************\n",
    "### 4.1 Create or update tables in DB\n",
    "#******************************************************************************\n",
    "#DB Name:DashprojDB.db\n",
    "     #Navigate to folder of interest on CLI\n",
    "     #$ sqlite3 DashprojDB.db\n",
    "     #sqlite> .databases\n",
    "     #sqlite> .quit, or\n",
    "     #create it once using import sqlite3 & con=sqlite3.connect('DashprojDB.db')\n",
    "# Tables: ['course_list', 'registrants', 'demography', 'cost_model',\n",
    "#               'grade_report', 'profit', 'surveys']\n",
    "#------------------------------------------------------------------------------\n",
    "def check_tables(dbpath):\n",
    "    table_list, msg = [], ''\n",
    "    try:\n",
    "        con = sqlite3.connect(dbpath)\n",
    "        cursor = con.cursor()\n",
    "        cursor.execute(\"SELECT name FROM sqlite_master WHERE type='table';\")\n",
    "        tab = cursor.fetchall()\n",
    "        for t in list(tab):\n",
    "            table_list.append(t[0])\n",
    "        msg = \"DB Tables were grabbed successfully!\"\n",
    "    except sqlite3.Error as error:\n",
    "        msg = f\"Tables fetching failed due to {error}.\"\n",
    "    finally:\n",
    "        if con:\n",
    "            con.close()\n",
    "    return table_list, msg\n",
    "# table_list, ctmsg = check_tables(dpath)\n",
    "#------------------------------------------------------------------------------\n",
    "def querydb(dbpath, coldb, colnorm, tblname):\n",
    "    try:\n",
    "        tmpcol = [c for c in coldb]\n",
    "        tmpcol.extend(['modifiedBy', 'MAC', 'hostname', 'Timestamp'])\n",
    "        engine = create_engine('sqlite:///'+dbpath, echo=False)\n",
    "        df = pd.DataFrame(engine.execute(f\"Select DISTINCT * from {tblname}\"),\n",
    "                     columns=tmpcol)\n",
    "        df = df[coldb]\n",
    "        df.columns = colnorm\n",
    "    except:\n",
    "        msg = f\"{tblname} doesn't exist or columns don't match!\"\n",
    "        return msg\n",
    "    else:\n",
    "        return df\n",
    "#------------------------------------------------------------------------------\n",
    "def getThoseNotInDB(df, dbtbl, cid):    \n",
    "    if (isinstance(df, bool)==False)\\\n",
    "        and (isinstance(dbtbl, str)==False):\n",
    "        try:\n",
    "            dblst = dbtbl[cid].tolist()            \n",
    "            inner = df[~df[cid].isin(dblst)]           \n",
    "        except:\n",
    "            return False\n",
    "        else:\n",
    "            return inner       \n",
    "    else:\n",
    "        return False\n",
    "#------------------------------------------------------------------------------\n",
    "def getstamps():\n",
    "    un = getpass.getuser()\n",
    "    now = dtt.now()\n",
    "    dt = now.strftime(\"%m/%d/%Y %H:%M:%S\")\n",
    "    mac = ':'.join(re.findall('..', '%012x' % uuid.getnode()))\n",
    "    hn = socket.gethostname()\n",
    "    return un, mac, hn, dt\n",
    "#------------------------------------------------------------------------------\n",
    "def tosqlite(dbpath, df, dbtab, flag, tab_name, tabmsg1,label, mode, cid, coldb):\n",
    "    error, replaces= [], []\n",
    "    if mode == 'append':\n",
    "        df = getThoseNotInDB(df, dbtab, cid)\n",
    "    if isinstance(df, bool)== False and flag == None:\n",
    "        try:\n",
    "            con = sqlite3.connect(dbpath)\n",
    "            cursor = con.cursor()\n",
    "            engine = create_engine('sqlite:///'+dbpath, echo=False)\n",
    "            df.columns = coldb\n",
    "            un, mac, hn, dt = getstamps()    \n",
    "            df['modifiedBy'],df['MAC'],df['hostname'],df['Timestamp']=un,mac,hn,dt             \n",
    "            df.to_sql(tab_name, engine, if_exists=mode, index=False)\n",
    "            if mode == 'append':\n",
    "                error.append(f\"Section-4: {tabmsg1} was successfully appended to db!\")\n",
    "            if mode == 'replace' and tab_name != 'frac_setting':\n",
    "                error.append(f\"Section-4: {tabmsg1} was successfully replaced in db!\")\n",
    "                replaces.append(tab_name)\n",
    "            con.commit()\n",
    "            cursor.close()\n",
    "        except sqlite3.Error as er:\n",
    "            error.append(f\"{tab_name} wasn't added to DB due to {er}.\")\n",
    "        else:\n",
    "            error.append(f\"{tab_name} was added to DB!\")\n",
    "        finally:\n",
    "            if con:\n",
    "                con.close()\n",
    "    elif flag == False:\n",
    "        error.append(f\"Section-4: Check columns mismatch in {tabmsg1} file!\")\n",
    "    else:\n",
    "        error.append(f\"Section-4: No {tabmsg1} input and nothing was iserted\"\n",
    "               +\" to DB or table might be already in DB!\")\n",
    "    return error, replaces\n",
    "# error, replaces = tosqlite(dbpath, df, dbtab, flag, tab_name, \n",
    "#                       tabmsg1, label, mode, cid)\n",
    "#******************************************************************************\n",
    "#******************************************************************************\n",
    "# 5. Backup the Database in the Backup folder\n",
    "#******************************************************************************\n",
    "#******************************************************************************\n",
    "# New Name is given to every backedup DB\n",
    "# DB_name = DashProjDB_yyyy_month_dd.db\n",
    "def backupDb(path_4, dbpath):\n",
    "    try:\n",
    "        tdy = date.today()\n",
    "        y = tdy.strftime(\"%Y\")\n",
    "        m = tdy.strftime(\"%B\")\n",
    "        d = tdy.strftime(\"%d\")\n",
    "        db_name = 'DashProjDB_'+y+'_'+m+'_'+d+'.db'        \n",
    "        shutil.copy(dbpath, path_4)\n",
    "        path_old = path_4+'DashProjDB.db'\n",
    "        path_new = path_4 + db_name\n",
    "        os.rename(r''+path_old,r''+path_new)\n",
    "        errors.append('Section-5: DB was successfully backed up!')\n",
    "    except:\n",
    "        errors.append('Section-5: DB is not backed up because the path'\n",
    "                     +' is wrong!')\n",
    "\n",
    "#backupDb(path_4)\n",
    "#******************************************************************************\n",
    "#******************************************************************************\n",
    "# 6. Generate Reports from the db\n",
    "#******************************************************************************\n",
    "#******************************************************************************\n",
    "# Reports: All Courses List, Demography, Grades, Profit Analysis, & Survey\n",
    "# Convert DB tables to pandas tables\n",
    "# acl, reg, dem, cml, gra, prof, profsmry, and  svy\n",
    "#******************************************************************************\n",
    "### 6.1 Read Relevant Tables from DB\n",
    "#******************************************************************************\n",
    "def remove_duplicate(df, col):\n",
    "    try:\n",
    "        df.sort_values(col, inplace = True)\n",
    "        df.drop_duplicates(subset =col, keep = 'first', inplace = True)\n",
    "    except:\n",
    "        df = False\n",
    "    return df\n",
    "\n",
    "def sqliteTopd(dbpath1, querycol, tabname, dupcol, coldb):    \n",
    "    df = querydb(dbpath1, coldb, querycol, tabname)  \n",
    "    if isinstance(df, str)== False:\n",
    "        df = remove_duplicate(df, dupcol)\n",
    "        if isinstance(df, bool)== False:\n",
    "            return df\n",
    "        else:\n",
    "            return False\n",
    "    else:\n",
    "        return False\n",
    "   "
   ]
  },
  {
   "cell_type": "code",
   "execution_count": 168,
   "id": "73d8e53c-3c48-456d-b7fe-81dff1246438",
   "metadata": {},
   "outputs": [
    {
     "data": {
      "text/plain": [
       "([], 'DB Tables were grabbed successfully!')"
      ]
     },
     "execution_count": 168,
     "metadata": {},
     "output_type": "execute_result"
    }
   ],
   "source": [
    "check_tables(r'/home/alem/Documents/AlemNotes/AlgorithmsReview/DBMS/Relational/RDBE.db')"
   ]
  },
  {
   "cell_type": "markdown",
   "id": "496c43cb-14bd-472c-89af-14f6ece622a0",
   "metadata": {},
   "source": [
    "## <div class=\"alert alert-success\">                            ~End~"
   ]
  }
 ],
 "metadata": {
  "kernelspec": {
   "display_name": "Python [conda env:base] *",
   "language": "python",
   "name": "conda-base-py"
  },
  "language_info": {
   "codemirror_mode": {
    "name": "ipython",
    "version": 3
   },
   "file_extension": ".py",
   "mimetype": "text/x-python",
   "name": "python",
   "nbconvert_exporter": "python",
   "pygments_lexer": "ipython3",
   "version": "3.12.7"
  }
 },
 "nbformat": 4,
 "nbformat_minor": 5
}

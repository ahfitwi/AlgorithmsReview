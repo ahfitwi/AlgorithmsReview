{
 "cells": [
  {
   "cell_type": "markdown",
   "id": "c2b1c96a-a08a-46fa-8c80-8751ef3a371b",
   "metadata": {},
   "source": [
    "                                                                                  Alem Fitwi"
   ]
  },
  {
   "cell_type": "markdown",
   "id": "c4bf7769-b1a7-4028-a464-2380d0283977",
   "metadata": {},
   "source": [
    "# Best practice in python software development\n",
    "- Python is a versatile and widely-used programming language, and following best practices in Python software development can help you write clean, maintainable, and efficient code. Here are some key best practices:"
   ]
  },
  {
   "cell_type": "code",
   "execution_count": 85,
   "id": "b10ee021-1cf8-4603-9424-09e7e5053def",
   "metadata": {},
   "outputs": [],
   "source": [
    "import os\n",
    "import sys\n",
    "\n",
    "\n",
    "import numpy as np\n",
    "import pandas as pd\n",
    "\n",
    "from typing import Any, Dict, List, Tuple, Union, cast"
   ]
  },
  {
   "cell_type": "markdown",
   "id": "555f4f3c-6343-44d5-b2c6-47caa7e2fc0a",
   "metadata": {},
   "source": [
    "- sudo dpkg -i google-chrome-stable_current_amd64.deb\n",
    "- google-chrome-stable"
   ]
  },
  {
   "cell_type": "markdown",
   "id": "c6d7e3a8-e898-4f26-b03d-aa80fe38ae6f",
   "metadata": {},
   "source": [
    "## <div class=\"alert alert-info\"> Follow PEP 8 (Style Guide for Python Code)\n"
   ]
  },
  {
   "cell_type": "markdown",
   "id": "ba41fea6-dac7-4f07-8c01-4b8866ec9e11",
   "metadata": {},
   "source": [
    "- PEP 8 is the official style guide for Python. Adhering to it ensures consistency and readability.\n",
    "    - Use 4 spaces per indentation level.\n",
    "    - Limit lines to a maximum of 79 characters (or 72 for comments/docstrings).\n",
    "    - PEP8 recommends limiting lines of code to a maximum of 79 characters. For docstrings and comments, it suggests a limit of 72 characters.\n",
    "    - Use descriptive variable and function names (e.g., calculate_total() instead of calc()).\n",
    "    - Use snake_case for variable and function names, and PascalCase for class names.\n",
    "    - Avoid using single-letter variable names (except in short loops)."
   ]
  },
  {
   "cell_type": "code",
   "execution_count": 15,
   "id": "0064655c-dcc2-4199-a7af-29cc565b4a8c",
   "metadata": {},
   "outputs": [
    {
     "name": "stdout",
     "output_type": "stream",
     "text": [
      "class: #------------------------------------------------------------------------------\n",
      "function: #------------------------------------------------------------------------------\n",
      "Methods: #--------------------------------------------------------------------------\n"
     ]
    }
   ],
   "source": [
    "# Lines\n",
    "print('class: #'+'-'*78)\n",
    "print('function: #'+'-'*78)\n",
    "print('Methods: #'+'-'*74)"
   ]
  },
  {
   "cell_type": "markdown",
   "id": "81871248-735e-4c9c-986e-e12aef7fb369",
   "metadata": {},
   "source": [
    "## <div class=\"alert alert-danger\"> Write Writable, Readable and Maintainable Code\n"
   ]
  },
  {
   "cell_type": "markdown",
   "id": "16203f86-6487-4cfc-b803-caae5f0b663e",
   "metadata": {},
   "source": [
    "- Use meaningful names: Choose descriptive names for variables, functions, and classes.\n",
    "- Keep functions small and focused: Each function should do one thing (Single Responsibility Principle).\n",
    "- Avoid deep nesting: Use early returns or break down complex logic into smaller functions.\n",
    "- Add comments and docstrings: Explain the purpose of functions, classes, and complex logic."
   ]
  },
  {
   "cell_type": "code",
   "execution_count": 17,
   "id": "73245612-b253-4c04-b792-a01177f9a27e",
   "metadata": {},
   "outputs": [],
   "source": [
    "#------------------------------------------------------------------------------\n",
    "# Class\n",
    "#------------------------------------------------------------------------------\n",
    "class PythonClass:\n",
    "    \"\"\"_summary_: Description ...\"\"\"\n",
    "\n",
    "    #--------------------------------------------------------------------------\n",
    "    # Class Vars\n",
    "    #--------------------------------------------------------------------------\n",
    "\n",
    "\n",
    "    #--------------------------------------------------------------------------\n",
    "    # Methods\n",
    "    #--------------------------------------------------------------------------\n",
    "\n",
    "    pass\n",
    "    \n",
    "\n",
    "#------------------------------------------------------------------------------\n",
    "# Function\n",
    "#------------------------------------------------------------------------------\n",
    "def python_func(\n",
    "                    var_name1: np.ndarray, # annotation,\n",
    "                    var_name2: str, # annotation,\n",
    "                    #...\n",
    "                    var_namen: int # annotation,\n",
    "                ) -> np.ndarray: # annotation,\n",
    "    \"\"\"_summary_: Description ...\n",
    "                  Created By Alem Fitwi On 2025MonthDD @HH:MM AM/PM TZ\n",
    "                  Owner XXXX\n",
    "\n",
    "    Args:\n",
    "        var_name1(annotation): _description_\n",
    "        var_name2(annotation): _description_\n",
    "        ...\n",
    "        var_namen(annotation): _description_\n",
    "\n",
    "    Returns:\n",
    "        type: _description_\n",
    "    \n",
    "    \"\"\"\n",
    "    #--------------------------------------------------------------------------\n",
    "    pass"
   ]
  },
  {
   "cell_type": "markdown",
   "id": "4feaec04-fe90-4908-8a3d-b7c436b8fdc5",
   "metadata": {},
   "source": [
    "## <div class=\"alert alert-warning\"> Use Virtual Environments\n"
   ]
  },
  {
   "cell_type": "markdown",
   "id": "c953e8a2-7328-4e1d-8816-c9b28a4f3426",
   "metadata": {},
   "source": [
    "- Always use virtual environments (venv or conda) to manage dependencies for each project.\n",
    "    - python -m venv myenv source myenv/bin/activate # On Windows: myenv\\Scripts\\activate\n",
    "\n",
    "                #*****************************************************************\n",
    "                # A. On Ubuntu OS based Machine\n",
    "                #*****************************************************************\n",
    "                $ python -V # check py version on your machine\n",
    "                $ sudo apt-get install python-pip\n",
    "                $ sudo apt install python3-venv # install p3venv\n",
    "                $ virtualenv --version\n",
    "                $ python3 -m venv myvenv # create venv, named myvenv\n",
    "                $ source myenv/bin/activate # activate the created venv\n",
    "                $ deactivate # deactivate the venv\n",
    " \n",
    "                #*****************************************************************\n",
    "                # B. On Windows OS based Machine\n",
    "                #*****************************************************************\n",
    "                1 $ python -V # check py version on your machine\n",
    "                2 $ sudo apt install python3-venv # install p3venv\n",
    "                3 $ python3 -m venv myvenv # create venv, named myvenv\n",
    "                4 $ source myenv/bin/activate # activate the created venv\n",
    "                5 $ deactivate # deactivate the venv\n",
    "                \n",
    "                 \n",
    "\n",
    "    - This isolates project dependencies and avoids conflicts between projects."
   ]
  },
  {
   "cell_type": "markdown",
   "id": "36280ad5-fdd1-4c06-8655-66b084273316",
   "metadata": {},
   "source": [
    "### Windows Venv\n",
    "- 1. >pip install virtualenv\n",
    "  2. >virtualenv [loc of myvenv] -p [loc of *.exe]\n",
    "  3. >activate\n",
    "  4. >pip isntall --no-index --find-links=.\\WHL\\ -r .\\Doc\\requirements.txt  #local\n",
    "  5. >pip list\n",
    "  6. > pip freeze\n",
    "  7. > deactivate"
   ]
  },
  {
   "cell_type": "markdown",
   "id": "41c04fc0-6cc7-42d4-95a3-22d65a5d55a4",
   "metadata": {},
   "source": [
    "## <div class=\"alert alert-success\"> Dependencies\n"
   ]
  },
  {
   "cell_type": "markdown",
   "id": "7717c818-2e85-42cf-869a-524635506018",
   "metadata": {},
   "source": [
    "- Use requirements.txt or pyproject.toml to list dependencies.\n",
    "\n",
    "                >> pip download <package_name> --dest <download_directory> --no-binary=:all:\n",
    "                >> pip freeze>requrements.txt\n",
    "                >> pip list\n",
    "                >> pip install -r requirements.txt\n",
    "                >> pip install pkg\n",
    "- Use tools like pip-tools, poetry, or pipenv for dependency management.\n",
    "- Pin versions of dependencies to ensure reproducibility.\n",
    "- Download Dependencies of a certain module.\n",
    "\n",
    "                >> pip download <package_name> --dest <download_directory> --no-binary=:all:\n",
    "                     <package_name>: The name of the package you want to download.\n",
    "                     <download_directory>: The directory where the dependencies will be saved.\n",
    "                     --no-binary=:all:: Ensures that only source distributions are downloaded (optional).\n",
    "\n",
    "- Option 2: Use pipdeptree to list dependencies\n",
    "\n",
    "                >> pip install pipdeptree\n",
    "                   Then, list the dependencies of a package:\n",
    "                >> pipdeptree --packages <package_name>\n",
    "\n",
    "\n",
    "### Useful PIP Commands:\n",
    "1. Install a Package\n",
    "    - pip install package_name\n",
    "    - pip install requests\n",
    "2. Install a Specific Version of a Package\n",
    "    - pip install package_name==version_number\n",
    "    - pip install requests==2.25.1\n",
    "3. Upgrade a Package\n",
    "    - pip install --upgrade package_name\n",
    "    - pip install --upgrade requests\n",
    "4. Uninstall a Package\n",
    "    - pip uninstall package_name\n",
    "    - pip uninstall requests\n",
    "5. List Installed Packages\n",
    "    - pip list\n",
    "6. Show Details About a Specific Package\n",
    "    - pip show package_name\n",
    "    - pip show requests\n",
    "7. Freeze Installed Packages to a Requirements File\n",
    "    - pip freeze > requirements.txt\n",
    "8. Install Packages from a Requirements File\n",
    "    - pip install -r requirements.txt\n",
    "9. Check for Outdated Packages\n",
    "    - pip list --outdated\n",
    "10. Install a Package in User Space (Without Admin Privileges)\n",
    "    - pip install --user package_name\n",
    "    - pip install --user requests\n",
    "11. Install a Package from a Git Repository\n",
    "    - pip install git+https://github.com/username/repository.git\n",
    "    - pip install git+https://github.com/psf/requests.git\n",
    "12. Install a Package from a Local Directory\n",
    "    - pip install /path/to/directory\n",
    "13. Install a Package in Editable Mode (for Development)\n",
    "    - pip install -e /path/to/directory\n",
    "14. Search for a Package on PyPI\n",
    "    - pip search package_name\n",
    "    - pip search requests\n",
    "15. Check pip Version\n",
    "    - pip --version\n",
    "16. Upgrade pip\n",
    "    - pip install --upgrade pip\n",
    "17. Install a Package with No Dependencies\n",
    "    - pip install --no-deps package_name\n",
    "18. Install a Package with Specific Index URL\n",
    "    - pip install --index-url https://pypi.org/simple package_name\n",
    "19. Install a Package with Extra Dependencies\n",
    "    - pip install package_name[extra]\n",
    "    - pip install requests[security]\n",
    "20. Clear pip Cache\n",
    "    - pip cache purge"
   ]
  },
  {
   "cell_type": "markdown",
   "id": "cdb2a1c0-de36-4916-890d-8b17856146f0",
   "metadata": {},
   "source": [
    "### Steps to Download .whl Files from requirements.txt\n",
    "- Navigate to the Directory Containing requirements.txt\n",
    "- Open your terminal or command prompt and navigate to the directory where your requirements.txt file is located.\n",
    "- Use the pip download Command\n",
    "- Run the following command to download the .whl files for all packages and their dependencies listed in requirements.txt:\n",
    "\n",
    "            >> pip download -r requirements.txt -d dst_path\n",
    "                -r requirements.txt: Specifies the requirements.txt file to read from.\n",
    "                -d dst_pth: Specifies the directory where the .whl files will be saved (in this case, a folder named dst_path).\n",
    "\n",
    "- Verify the Downloaded Files\n",
    "- After the command completes, check the wheelhouse directory (or the directory you specified) to ensure all .whl files have been downloaded.\n",
    "\n",
    "\n",
    "### Download for a Specific Python Version\n",
    "- If you need to download .whl files for a specific Python version, use the --python-version flag:\n",
    "\n",
    "        >> pip download -r requirements.txt -d dst_path --python-version 3.8\n",
    "\n",
    "### Download for a Specific Platform\n",
    "- If you need .whl files for a specific platform (e.g., Windows, Linux), use the --platform flag:\n",
    "\n",
    "        >> pip download -r requirements.txt -d dst_path --platform win_amd64\n",
    "\n",
    "### Download Only Dependencies\n",
    "- If you want to download only the dependencies (not the packages listed in requirements.txt), use the --no-deps flag:\n",
    "\n",
    "        >> pip download -r requirements.txt -d dst_path --no-deps\n",
    "\n",
    "### Installing from Downloaded .whl Files\n",
    "- Once you have the .whl files, you can install them using:\n",
    "\n",
    "        >> pip install --no-index --find-links=dst_path -r requirements.txt\n",
    "        --no-index: Ensures pip does not look for packages on PyPI.\n",
    "        --find-links=dst_path: Specifies the directory containing the .whl files."
   ]
  },
  {
   "cell_type": "code",
   "execution_count": null,
   "id": "2e0ec688-0bf0-4e24-b418-e1f79571f650",
   "metadata": {},
   "outputs": [],
   "source": []
  },
  {
   "cell_type": "markdown",
   "id": "42767bd0-0193-46f0-8116-82f04942d276",
   "metadata": {},
   "source": [
    "## <div class=\"alert alert-info\"> Write Unit Tests\n"
   ]
  },
  {
   "cell_type": "markdown",
   "id": "7de160cf-3b83-4f25-89e0-0f8f66f030eb",
   "metadata": {},
   "source": [
    "- Use testing frameworks like unittest, pytest, or nose to write unit tests.\n",
    "- Follow the Test-Driven Development (TDD) approach if possible.\n",
    "- Aim for high test coverage, but focus on testing critical and complex parts of the code."
   ]
  },
  {
   "cell_type": "code",
   "execution_count": 23,
   "id": "93577b0a-77a9-4fb8-bcd4-71d45e9dbe36",
   "metadata": {},
   "outputs": [],
   "source": [
    "import math\n",
    "\n",
    "def is_prime(num):\n",
    "    '''Check if num is prime or not.'''\n",
    "    for i in range(2,int(math.sqrt(num))+1):\n",
    "        if num%i==0:\n",
    "            return False\n",
    "    return True"
   ]
  },
  {
   "cell_type": "markdown",
   "id": "ef53ab82-a0b1-4bdf-bbc6-27c79c3f2467",
   "metadata": {},
   "source": [
    "- Using Assert Function"
   ]
  },
  {
   "cell_type": "code",
   "execution_count": 30,
   "id": "953cf784-cd06-4971-bc7e-418eef36c0a3",
   "metadata": {},
   "outputs": [],
   "source": [
    "def test_func(func, args, target):\n",
    "    try:\n",
    "        assert is_prime(args) == target\n",
    "        return True\n",
    "    except AssertionError:\n",
    "        return False\n",
    "        "
   ]
  },
  {
   "cell_type": "code",
   "execution_count": 32,
   "id": "4ecdf0da-97c2-46a7-871d-3f9b45e258fe",
   "metadata": {},
   "outputs": [
    {
     "data": {
      "text/plain": [
       "True"
      ]
     },
     "execution_count": 32,
     "metadata": {},
     "output_type": "execute_result"
    }
   ],
   "source": [
    "test_func(is_prime, 2, True)"
   ]
  },
  {
   "cell_type": "code",
   "execution_count": 34,
   "id": "826379c6-32f2-4c34-a253-ed0d1e14a52e",
   "metadata": {},
   "outputs": [
    {
     "data": {
      "text/plain": [
       "True"
      ]
     },
     "execution_count": 34,
     "metadata": {},
     "output_type": "execute_result"
    }
   ],
   "source": [
    "test_func(is_prime, 4, False)"
   ]
  },
  {
   "cell_type": "markdown",
   "id": "f541ab03-9246-4551-a45f-2072cfa7a22b",
   "metadata": {},
   "source": [
    "- unittest"
   ]
  },
  {
   "cell_type": "code",
   "execution_count": null,
   "id": "cd0d7ecc-1387-4c43-a65a-0eea7bc27087",
   "metadata": {},
   "outputs": [],
   "source": [
    "import unittest\n",
    "# import the is_prime function\n",
    "# from prime_number import is_prime\n",
    "class TestPrime(unittest.TestCase):\n",
    "    def test_two(self):\n",
    "        self.assertTrue(is_prime(2))\n",
    "    def test_five(self):\n",
    "        self.assertTrue(is_prime(5))\n",
    "    def test_nine(self):\n",
    "        self.assertFalse(is_prime(9))\n",
    "    def test_eleven(self):\n",
    "        self.assertTrue(is_prime(11))\n",
    "        \n",
    "if __name__=='__main__':\n",
    "    unittest.main()"
   ]
  },
  {
   "cell_type": "markdown",
   "id": "11dc711d-3d91-44f7-819e-6af56dac56b9",
   "metadata": {},
   "source": [
    "## <div class=\"alert alert-warning\"> Use Version Control"
   ]
  },
  {
   "cell_type": "code",
   "execution_count": null,
   "id": "6190ae57-16de-496d-8108-c3d7dc8f9595",
   "metadata": {},
   "outputs": [],
   "source": [
    "Use Git for version control and follow a branching strategy like GitFlow.\n",
    "\n",
    "Write meaningful commit messages.\n",
    "\n",
    "Use .gitignore to exclude unnecessary files (e.g., __pycache__, virtual environments)."
   ]
  },
  {
   "cell_type": "markdown",
   "id": "31f7b823-c18d-4ba0-9017-066b371b460d",
   "metadata": {},
   "source": [
    "## <div class=\"alert alert-danger\"> Handle Exceptions Gracefully"
   ]
  },
  {
   "cell_type": "markdown",
   "id": "69c344d5-fb07-47fc-9796-652c5e1acc0a",
   "metadata": {},
   "source": [
    " - Use try-except blocks to handle exceptions.\n",
    "- Avoid bare except clauses; specify the exception type.\n",
    "- Log exceptions for debugging purposes."
   ]
  },
  {
   "cell_type": "code",
   "execution_count": 46,
   "id": "605c1352-57b5-43e8-8c6f-60e8a0e3831e",
   "metadata": {},
   "outputs": [],
   "source": [
    "try:\n",
    "    pass\n",
    "except:\n",
    "    pass\n",
    "else:\n",
    "    pass\n",
    "finally:\n",
    "    pass"
   ]
  },
  {
   "cell_type": "code",
   "execution_count": 48,
   "id": "fd7e9e1a-3ee2-41cb-a475-b8d27a86ef75",
   "metadata": {},
   "outputs": [
    {
     "name": "stderr",
     "output_type": "stream",
     "text": [
      "ERROR:root:Error occurred: division by zero\n"
     ]
    }
   ],
   "source": [
    "import logging \n",
    "\n",
    "logging.basicConfig(level=logging.ERROR) \n",
    "\n",
    "try: \n",
    "    result = 10 / 0 \n",
    "except ZeroDivisionError as e: \n",
    "    logging.error(f\"Error occurred: {e}\")\n"
   ]
  },
  {
   "cell_type": "code",
   "execution_count": 81,
   "id": "a0e7039b-30d8-4037-8874-0029aa28c858",
   "metadata": {},
   "outputs": [
    {
     "data": {
      "text/plain": [
       "1.681578947368421"
      ]
     },
     "execution_count": 81,
     "metadata": {},
     "output_type": "execute_result"
    }
   ],
   "source": [
    "639/(95*4)"
   ]
  },
  {
   "cell_type": "markdown",
   "id": "0b5b6999-5260-4a8e-9ebe-7935b9a6c218",
   "metadata": {},
   "source": [
    "## <div class=\"alert alert-success\"> Optimize Performance"
   ]
  },
  {
   "cell_type": "markdown",
   "id": "e68732c4-ca51-43e0-8775-e9bb3e97932e",
   "metadata": {},
   "source": [
    "- Use built-in functions and libraries (e.g., map(), filter(), itertools) for performance.\n",
    "\n",
    "              map\n",
    "              filter\n",
    "              reduce\n",
    "              zip\n",
    "              itertools\n",
    "              all  --> all([]) -> True\n",
    "              any\n",
    "              enumerate\n",
    "              dir --> all atributes and methods of an object\n",
    "              eval --> insecure, eval('x+2'), takes python str expression as input.\n",
    "- Avoid premature optimization; focus on readability first.\n",
    "- Use profiling tools like **cProfile** to identify bottlenecks."
   ]
  },
  {
   "cell_type": "code",
   "execution_count": 76,
   "id": "3261229b-83eb-4332-a06a-ca82c82ff782",
   "metadata": {},
   "outputs": [
    {
     "data": {
      "text/plain": [
       "(True, False)"
      ]
     },
     "execution_count": 76,
     "metadata": {},
     "output_type": "execute_result"
    }
   ],
   "source": [
    "all([]), any([])"
   ]
  },
  {
   "cell_type": "markdown",
   "id": "cb55c477-ac5c-4239-8f76-a7f5fcea7457",
   "metadata": {},
   "source": [
    "## <div class=\"alert alert-info\"> Use Type Annotations"
   ]
  },
  {
   "cell_type": "code",
   "execution_count": null,
   "id": "cbaa1d30-c94e-4068-9870-e4d16ff02bb1",
   "metadata": {},
   "outputs": [],
   "source": [
    "Add type hints to improve code readability and catch errors early.\n",
    "\n",
    "python\n",
    "\n",
    "Copy\n",
    "\n",
    "def greet(name: str) -> str: return f\"Hello, {name}\"\n",
    "\n",
    "Use tools like mypy for static type checking."
   ]
  },
  {
   "cell_type": "markdown",
   "id": "2451de63-a5f0-472e-9380-b2b51a438eca",
   "metadata": {},
   "source": [
    "## <div class=\"alert alert-warning\"> Document Your Code"
   ]
  },
  {
   "cell_type": "code",
   "execution_count": null,
   "id": "c85499bb-d6c9-4e74-beff-44ae26daad76",
   "metadata": {},
   "outputs": [],
   "source": [
    "Use docstrings to describe modules, classes, and functions.\n",
    "\n",
    "python\n",
    "\n",
    "Copy\n",
    "\n",
    "def add(a: int, b: int) -> int: \"\"\"Add two numbers and return the result.\"\"\" return a + b\n",
    "\n",
    "Generate documentation using tools like Sphinx."
   ]
  },
  {
   "cell_type": "markdown",
   "id": "7720d2b7-da18-4981-9a3b-f685f07d34eb",
   "metadata": {},
   "source": [
    "## <div class=\"alert alert-danger\"> Use Linting and Formatting Tools"
   ]
  },
  {
   "cell_type": "markdown",
   "id": "f3ef7223-d5d6-4ab8-a78d-cebdc01fa6ad",
   "metadata": {},
   "source": [
    "- Use linters like flake8, pylint, or black to enforce code style and catch errors.\n",
    "- Automate formatting with tools like **black** or **autopep8**."
   ]
  },
  {
   "cell_type": "markdown",
   "id": "feb2cfa6-91f8-4f82-8e38-998fc8b6bf0a",
   "metadata": {},
   "source": [
    "## <div class=\"alert alert-success\"> Follow Security Best Practices"
   ]
  },
  {
   "cell_type": "markdown",
   "id": "9ec83af2-1196-42b5-86f2-50b499b14d42",
   "metadata": {},
   "source": [
    "- Avoid using eval() or exec() with untrusted input.\n",
    "    - The eval() function in Python executes arbitrary code, posing significant security risks if used with untrusted input. To use eval() - securely, consider these approaches:\n",
    "  - Sanitize user inputs to prevent SQL injection, XSS, etc.\n",
    "  - Use libraries like bcrypt for hashing passwords."
   ]
  },
  {
   "cell_type": "markdown",
   "id": "0cf14da6-855c-4c8e-be3a-8b3ed3e3d0ff",
   "metadata": {},
   "source": [
    "## <div class=\"alert alert-info\"> Use Logging Instead of Print Statements"
   ]
  },
  {
   "cell_type": "markdown",
   "id": "d56e7823-5905-43cb-a591-46d41106eecd",
   "metadata": {},
   "source": [
    "- Use the logging module for debugging and tracking application behavior.\n",
    "\n",
    "          import logging\n",
    "\n",
    "          logging.basicConfig(level=logging.INFO)\n",
    "          logging.info(\"This is an info message\")"
   ]
  },
  {
   "cell_type": "code",
   "execution_count": 89,
   "id": "18115c14-2ebe-432c-9f3c-c71392866d86",
   "metadata": {},
   "outputs": [],
   "source": [
    "#------------------------------------------------------------------------------\n",
    "# Log Debug, Info, Warning, & Error\n",
    "#------------------------------------------------------------------------------\n",
    "def log_diwe(\n",
    "                key: str,\n",
    "                msg: str,\n",
    "                path: os.PathLike,\n",
    "                shutdown: bool = False\n",
    "            ) -> bool:\n",
    "    \"\"\"_summary_: Logs Info, warning, or error messages for efficient debugging\n",
    "                  Created By Alem Fitwi On 2022Feb08@19:23PM EST\n",
    "                  Owner Alem\n",
    "\n",
    "    Args:\n",
    "        key(str): info, warning, or error\n",
    "        msg(str): info, warning, or error message\n",
    "        path(os.PathLike): path to location where logs will bae saved to\n",
    "        shutdown(bool): enables or disables shutting down logging\n",
    "\n",
    "    Returns:\n",
    "        bool: returns True when successful\n",
    "    \n",
    "    \"\"\"\n",
    "    # Add Path Manager Using InitSetup Class Here\n",
    "    frmt = '%(asctime)s [%(filename)s:%(lineno)d] %(message)s'\n",
    "    if not shutdown: # perform logging\n",
    "        logging.basicCOnfig(filename=path, format=frmt, filemode='a')\n",
    "\n",
    "        # Creating An Object\n",
    "        logger = logging.getLogger()\n",
    "    else: # close all logger handlers\n",
    "        logging.basicCOnfig(filename=path, format=frmt, filemode='a')\n",
    "        \n",
    "        # Creating An Object\n",
    "        logger = logging.getLogger()\n",
    "        logging.shutdown()\n",
    "        logger.handlers=[]\n",
    "\n",
    "        return False\n",
    "\n",
    "\n",
    "    # Setting The Threshold of Logger To DEBUG\n",
    "    if 'info' in key or 'warning' in key or 'error' in key:\n",
    "        logger.setLevel(logging.ERROR)\n",
    "    else:\n",
    "        logger.setLevel(logging.DEBUg)\n",
    "\n",
    "\n",
    "    # DIWE Messages\n",
    "    if key == 'critical':\n",
    "        logger.critical(f\"[{key.capitalize()}]: {msg}\")\n",
    "    elif key == 'error':\n",
    "        logger.error(f\"[{key.capitalize()}]: {msg}\")\n",
    "    elif key == 'warning':\n",
    "        logger.error(f\"[{key.capitalize()}]: {msg}\")\n",
    "    elif key == 'info':\n",
    "        logger.error(f\"[{key.capitalize()}]: {msg}\")\n",
    "    else:\n",
    "        logger.debug(f\"[{key.capitalize()}]: {msg}\")\n",
    "\n",
    "\n",
    "    return True\n",
    "\n",
    "\n",
    "#------------------------------------------------------------------------------\n",
    "# Logs Exceptions Raised\n",
    "#------------------------------------------------------------------------------\n",
    "\n",
    "def exec_errf(\n",
    "                func: Any,\n",
    "                msgtype: str,\n",
    "                path: os.PathLike,\n",
    "                raise_exception: str = None,\n",
    "                amsg: str = None\n",
    "            ) -> bool:\n",
    "    \"\"\"_summary_: Logs Exceptions Raised by Methods and Functions\n",
    "                  Created By Alem Fitwi On 2022Feb08@20:36PM EST\n",
    "                  Owner Alem\n",
    "\n",
    "    Args:\n",
    "        func(Any): logging function to be executed\n",
    "        msgtype(str): info, warning, or error message type\n",
    "        raise_exception(str): exception is raised if not None\n",
    "        amsg(bool): additional message to be logged\n",
    "\n",
    "    Returns:\n",
    "        bool: returns True when successful; otherwise, False\n",
    "    \n",
    "    \"\"\"\n",
    "\n",
    "    if 'error' in msgtype:\n",
    "        msg = f\"[@{func}(...)], Error={sys.exc_info()[0]}: \"\n",
    "        msg += f\"{sys.exc_info()[1]} {amsg}\"\n",
    "        log_diwe(msgtype, msg, path)\n",
    "        \n",
    "    if 'warning' in msgtype:\n",
    "        msg = f\"Warning @ {func}\"\n",
    "        if raise_exception:\n",
    "            msg = msg + ' '+ raise_exception\n",
    "        if amsg:\n",
    "            msg = msg + ' '+ amsg\n",
    "        log_diwe(msgtype, msg, path)\n",
    "            \n",
    "    if 'info' in msgtype:\n",
    "        msg = f\"{func}\"\n",
    "        if raise_exception:\n",
    "            msg = msg + ' '+ raise_exception\n",
    "        if amsg:\n",
    "            msg = msg + ' '+ amsg\n",
    "        log_diwe(msgtype, msg, path)\n",
    "        \n",
    "    if raise_exception is not None:\n",
    "        if amsg:\n",
    "            raise_exception = raise_exception + ' '+ amsg\n",
    "        log_diwe(msgtype, raise_exception, path)\n",
    "        print(f\"[{msgtype.capitalize()}]@{func} {raise_exception}\")\n",
    "\n",
    "#------------------------------------------------------------------------------\n",
    "# Raises Exception\n",
    "#------------------------------------------------------------------------------\n",
    "\n",
    "def raise_exception(\n",
    "                    func_name: Any,\n",
    "                    msg_type: str,\n",
    "                    msg: str,\n",
    "                    path: os.PathLike\n",
    "            ) -> bool:\n",
    "    \"\"\"_summary_: Raises Exceptions When Necessary\n",
    "                  Created By Alem Fitwi On 2022Feb08@21:54PM EST\n",
    "                  Owner Alem\n",
    "\n",
    "    Args:\n",
    "        func_name(Any): name of class, function, or method where exception\n",
    "                       was raised.\n",
    "        msg_type(str): info, warning, or error message\n",
    "        msg(str): Message to be displayed and logged when exception is raised.\n",
    "        path(os.PathLike): path to location where logs will bae saved to\n",
    "\n",
    "    Returns:\n",
    "        bool: returns True when successful\n",
    "    \n",
    "    \"\"\"\n",
    "    try:\n",
    "        msg = str(msg)\n",
    "        raise ValueError(msg)\n",
    "    except:\n",
    "        exec_errf(func_name, msg_type, path, raise_exception=msg)\n",
    "\n",
    "#------------------------------------------------------------------------------\n",
    "# Class\n",
    "#------------------------------------------------------------------------------\n",
    "def pring_log_info(\n",
    "                        msg: str,\n",
    "                        msg_type: str,\n",
    "                        path: os.PathLike\n",
    "                    ) -> bool:\n",
    "    \"\"\"_summary_: Prints Log Info From Any Module, Class, or Function\n",
    "                  Created By Alem Fitwi On 2022Feb08@21:57PM EST\n",
    "                  Owner Alem\n",
    "\n",
    "    Args:\n",
    "        msg(str): info, warning, or error message\n",
    "        msg_type(str): info, warning, or error message type\n",
    "        path(os.PathLike): path to location where logs will bae saved to\n",
    "\n",
    "    Returns:\n",
    "        bool: returns True when successful\n",
    "    \n",
    "    \"\"\"\n",
    "    try:\n",
    "        msg = str(msg)\n",
    "        raise ValueError(msg)\n",
    "    except:\n",
    "        log_diwe(func_name, msg_type, path, raise_exception=msg)\n",
    "        "
   ]
  },
  {
   "cell_type": "markdown",
   "id": "d6b514ac-6c8d-46c6-8b88-5eefc0dfa377",
   "metadata": {},
   "source": [
    "## <div class=\"alert alert-warning\"> Modularize Your Code"
   ]
  },
  {
   "cell_type": "markdown",
   "id": "6d07a83a-725a-48d9-a9cd-b4eb4a903c6a",
   "metadata": {},
   "source": [
    "- Break your code into modules and packages for better organization.\n",
    "- Use __init__.py to define packages.\n",
    "- Modules:\n",
    "  - Functional:\n",
    "    - funct1.py\n",
    "    - funct2.py\n",
    "    - utils.py\n",
    "    - ...\n",
    "  - Management:\n",
    "    - setup.py\n",
    "    - config.yaml/.ini/.json\n",
    "- Follow the principle of Don't Repeat Yourself (DRY).\n",
    "  - DRY - Do Not Repeat Yourself. The Do not Repeat Yourself (DRY) principle encourages us to not repeat lines of code. We shouldn't repeat ourselves according to the DRY principle."
   ]
  },
  {
   "cell_type": "markdown",
   "id": "c3df3c6c-36b7-415f-909a-23d5ad818c57",
   "metadata": {},
   "source": [
    "## <div class=\"alert alert-danger\"> Use Context Managers"
   ]
  },
  {
   "cell_type": "markdown",
   "id": "c4df4857-f981-43bd-beeb-6ad7d0a28a56",
   "metadata": {},
   "source": [
    "- Use with statements for resource management (e.g., file handling).\n",
    "\n",
    "            with open(\"file.txt\", \"r\") as file:\n",
    "              content = file.read()\n",
    "- With file reading/writing, multiprocessing, and multithreading"
   ]
  },
  {
   "cell_type": "markdown",
   "id": "e5ca3d0e-3a13-410d-b596-2a2f5b2ac9d4",
   "metadata": {},
   "source": [
    "## <div class=\"alert alert-success\"> Keep Up with Python Updates"
   ]
  },
  {
   "cell_type": "markdown",
   "id": "6c2d77ef-feec-4397-8600-92488cc7ce0f",
   "metadata": {},
   "source": [
    "- Stay updated with the latest Python releases and features.\n",
    "- Migrate to newer versions (e.g., Python 3.x) and deprecate older ones."
   ]
  },
  {
   "cell_type": "markdown",
   "id": "1a7d7b2a-9ad7-41a6-97cd-43e173dbb3ac",
   "metadata": {},
   "source": [
    "## <div class=\"alert alert-info\"> Use Design Patterns"
   ]
  },
  {
   "cell_type": "markdown",
   "id": "80840a8d-1278-4c04-8010-e066711dec38",
   "metadata": {},
   "source": [
    "- Apply common design patterns (e.g., Singleton, Factory, Observer) where appropriate.\n",
    "  - **Singleton pattern**: This pattern ensures that only one instance of a class is created and provides a global point of access to that instance.\n",
    "  - **Factory pattern**: This pattern provides an interface for creating objects in a superclass, but allows subclasses to alter the type of objects that will be created.\n",
    "  - **Observer pattern**: This pattern defines a one-to-many dependency between objects, so that when one object changes state, all its dependents are notified and updated automatically.\n",
    "  - **Decorator pattern**: This pattern allows behavior to be added to an individual object, either statically or dynamically, without affecting the behavior of other objects from the same class.\n",
    "  - **Adapter pattern**: This pattern allows the interface of an existing class to be used as another interface, without modifying the source code of the existing class.\n",
    "- Avoid over-engineering; use patterns only when they add value.\n",
    "- Class Design:\n",
    "  - Inheritance: is-a\n",
    "  - Composition: has-a"
   ]
  },
  {
   "cell_type": "markdown",
   "id": "10c6fbea-47a1-4aef-b266-bed939e11b2f",
   "metadata": {},
   "source": [
    "### Singleton\n",
    "- The Singleton pattern is a creational design pattern that restricts the instantiation of a class to a single object. This is accomplished by ensuring that the class has only one instance and providing a global point of access to that instance.\n",
    "- To create a Singleton class, we usually define a static method in the class, which is responsible for creating the instance of the Singleton class if it doesn’t already exist, and returning it. Here’s an example implementation in Python:"
   ]
  },
  {
   "cell_type": "code",
   "execution_count": 100,
   "id": "6af5f42b-1134-4599-b4e1-c4c23c84b3fe",
   "metadata": {},
   "outputs": [],
   "source": [
    "class Singleton:\n",
    "    __instance = None\n",
    "    \n",
    "    def __new__(cls):\n",
    "        if cls.__instance is None:\n",
    "            cls.__instance = super().__new__(cls)\n",
    "        return cls.__instance"
   ]
  },
  {
   "cell_type": "markdown",
   "id": "25c46aac-e722-4a3f-ae88-539d4ff41c59",
   "metadata": {},
   "source": [
    "- In this example, we define a __new__ method that checks whether an instance of the class already exists. If it does not, the __new__ method creates a new instance of the class using the super().__new__ method, and assigns it to the class variable __instance. If an instance already exists, the __new__ method simply returns the existing instance.\n",
    "- Using the Singleton pattern can be useful in situations where we need to ensure that only one instance of a class is created, such as when we want to control access to a shared resource or maintain a global state. However, it’s important to be aware of the potential drawbacks of the Singleton pattern, such as making it harder to test the code and making the code more tightly coupled."
   ]
  },
  {
   "cell_type": "markdown",
   "id": "902194b4-eef4-40e2-9314-7dfd49dbc0ac",
   "metadata": {},
   "source": [
    "### Factory\n",
    "- The Factory pattern is a creational design pattern that provides an interface for creating objects in a superclass, but allows subclasses to alter the type of objects that will be created.\n",
    "-To create a Factory class, we first define a superclass (or interface) that declares the methods for creating objects. We then define a concrete implementation of the superclass for each type of object that we want to create. Finally, we define a Factory class that takes in a parameter and returns an object of the appropriate type based on that parameter.\n",
    "- Here’s an example implementation of the Factory pattern in Python:"
   ]
  },
  {
   "cell_type": "code",
   "execution_count": 104,
   "id": "aeb76996-8eb3-4f6a-a673-dc71319e87dc",
   "metadata": {},
   "outputs": [],
   "source": [
    "class Animal:\n",
    "    def speak(self):\n",
    "        pass\n",
    "\n",
    "class Dog(Animal):\n",
    "    def speak(self):\n",
    "        return \"Woof!\"\n",
    "\n",
    "class Cat(Animal):\n",
    "    def speak(self):\n",
    "        return \"Meow!\"\n",
    "\n",
    "class AnimalFactory:\n",
    "    def create_animal(self, animal_type):\n",
    "        if animal_type == \"dog\":\n",
    "            return Dog()\n",
    "        elif animal_type == \"cat\":\n",
    "            return Cat()\n",
    "        else:\n",
    "            return None"
   ]
  },
  {
   "cell_type": "markdown",
   "id": "71a6a445-bf13-4604-8149-bed00e8243c9",
   "metadata": {},
   "source": [
    "- In this example, we define an Animal superclass with a speak method, which is then implemented by the Dog and Cat subclasses. We then define an AnimalFactory class with a create_animal method that takes in a animal_type parameter and returns an object of the appropriate type based on that parameter.\n",
    "- Using the Factory pattern can be useful in situations where we want to abstract away the details of object creation and provide a flexible way to create objects. It can also be helpful in situations where we want to decouple the code that uses the objects from the code that creates them."
   ]
  },
  {
   "cell_type": "markdown",
   "id": "71ca19f6-a2ae-4834-89f7-23f993619d38",
   "metadata": {},
   "source": [
    "### Observer (Publisher)\n",
    "- The Observer pattern is a behavioral design pattern that defines a one-to-many dependency between objects, so that when one object changes state, all its dependents are notified and updated automatically.\n",
    "- To create an Observer pattern, we first define a Subject class that maintains a list of its dependents (also known as observers), and provides methods for adding, removing, and notifying observers. We then define one or more Observer classes that implement an update method, which is called by the Subject when its state changes.\n",
    "- Here’s an example implementation of the Observer pattern in Python:\n",
    "\n",
    "                                      Publisher\n",
    "                                  ...                ...\n",
    "                         Subscriber                  Subscriber\n",
    "- It also notifies the other objects also that’s why we generally call it Publisher1. All the objects that want to track changes in the publisher’s state are called subscribers."
   ]
  },
  {
   "cell_type": "code",
   "execution_count": 109,
   "id": "cfa527ab-ce0b-4dc2-b298-78e0ee852dc0",
   "metadata": {},
   "outputs": [],
   "source": [
    "class Subject:\n",
    "    def __init__(self):\n",
    "        self._observers = []\n",
    "\n",
    "    def attach(self, observer):\n",
    "        self._observers.append(observer)\n",
    "\n",
    "    def detach(self, observer):\n",
    "        self._observers.remove(observer)\n",
    "\n",
    "    def notify(self):\n",
    "        for observer in self._observers:\n",
    "            observer.update(self)\n",
    "\n",
    "class Observer:\n",
    "    def update(self, subject):\n",
    "        pass\n",
    "\n",
    "class ConcreteObserver(Observer):\n",
    "    def update(self, subject):\n",
    "        print(f\"Subject {id(subject)} has been updated\")\n",
    "\n",
    "class ConcreteSubject(Subject):\n",
    "    def __init__(self):\n",
    "        super().__init__()\n",
    "        self._state = None\n",
    "\n",
    "    def get_state(self):\n",
    "        return self._state\n",
    "\n",
    "    def set_state(self, state):\n",
    "        self._state = state\n",
    "        self.notify()"
   ]
  },
  {
   "cell_type": "code",
   "execution_count": 111,
   "id": "c6b4db6f-5c36-4616-a86e-37372820bf22",
   "metadata": {},
   "outputs": [
    {
     "name": "stdout",
     "output_type": "stream",
     "text": [
      "Subject 126778306965824 has been updated\n",
      "Subject 126778306965824 has been updated\n"
     ]
    }
   ],
   "source": [
    "subject = ConcreteSubject()\n",
    "observer1 = ConcreteObserver()\n",
    "observer2 = ConcreteObserver()\n",
    "\n",
    "subject.attach(observer1)\n",
    "subject.attach(observer2)\n",
    "\n",
    "subject.set_state(\"Sunny\")"
   ]
  },
  {
   "cell_type": "markdown",
   "id": "b86fd823-b7ab-4ce5-bcf4-dc39bbba1d3f",
   "metadata": {},
   "source": [
    "- In this example, we define a Subject superclass with attach, detach, and notify methods for managing its list of observers. We also define an Observer superclass with an update method that is called by the Subject when its state changes.\n",
    "- We then define a ConcreteSubject class that extends the Subject and maintains a private _state variable. When the ConcreteSubject’s state changes using the set_state method, it notifies all its observers by calling their update methods.\n",
    "- Finally, we define a ConcreteObserver class that extends the Observer and prints a message when its update method is called.\n",
    "- Using the Observer pattern can be useful in situations where we want to maintain loose coupling between objects and decouple the code that changes the state of an object from the code that reacts to the change. It can also be helpful in situations where we want to provide a flexible way to add and remove observers without changing the code of the subject class."
   ]
  },
  {
   "cell_type": "markdown",
   "id": "9aa6f5fb-1b90-4f3f-b467-82ad2a3d3b62",
   "metadata": {},
   "source": [
    "### Use Cases\n",
    "\n",
    "#### Singleton:\n",
    "- Configuration objects that need to be shared across an application\n",
    "- Database connection objects that need to be reused\n",
    "- Logging objects that need to be accessed from different parts of the application\n",
    "- Objects that need to maintain a single point of control, such as a global counter or sequence generator\n",
    "\n",
    "\n",
    "#### Factory:\n",
    "- Object creation that requires complex initialization or multiple steps\n",
    "- Object creation that needs to be decoupled from the calling code\n",
    "- Creating objects based on runtime parameters or configuration settings\n",
    "- Creating objects that are difficult to instantiate directly, such as objects with circular dependencies or objects that require access to a particular resource\n",
    "\n",
    "\n",
    "#### Observer:\n",
    "- Implementing publish-subscribe systems, where one object sends messages and other objects receive them\n",
    "- Implementing event-based systems, where multiple objects need to respond to changes in state\n",
    "- Implementing user interface components that need to update in response to changes in data\n",
    "- Implementing notification systems that send updates to multiple listeners or subscribers"
   ]
  },
  {
   "cell_type": "markdown",
   "id": "07a71936-7e8b-49b6-bede-991e8a0030a6",
   "metadata": {},
   "source": [
    "## <div class=\"alert alert-warning\"> Profile and Optimize"
   ]
  },
  {
   "cell_type": "markdown",
   "id": "475e12b1-909a-4491-b0c9-1ba96dc691b6",
   "metadata": {},
   "source": [
    "- Use profiling tools like ***cProfile*** or PyCharm's profiler to identify performance bottlenecks.\n",
    "- Optimize only after identifying the actual issues."
   ]
  },
  {
   "cell_type": "markdown",
   "id": "34c21d2c-d50c-41a0-a09e-ed599c2e6d93",
   "metadata": {},
   "source": [
    "### Python time module"
   ]
  },
  {
   "cell_type": "code",
   "execution_count": 127,
   "id": "7373017d-5ba2-48fb-93f1-4da8004bd1d7",
   "metadata": {},
   "outputs": [
    {
     "name": "stdout",
     "output_type": "stream",
     "text": [
      "Time Consumed\n",
      "7.724761962890625e-05 seconds\n",
      "Time Consumed\n",
      "4.542500028037466e-05 seconds\n"
     ]
    }
   ],
   "source": [
    "# importing time module\n",
    "import time\n",
    "from time import perf_counter as pc\n",
    "\n",
    "start = time.time()\n",
    "print(\"Time Consumed\")\n",
    "print(\"% s seconds\" % (time.time() - start))\n",
    "\n",
    "\n",
    "start = pc()\n",
    "print(\"Time Consumed\")\n",
    "print(\"% s seconds\" % (pc() - start))\n"
   ]
  },
  {
   "cell_type": "markdown",
   "id": "2c1e8f60-3d23-43f0-ba2f-ed0de2d6f6c6",
   "metadata": {},
   "source": [
    "### Python line_profiler\n",
    "- Python provides a built-in module to measure execution time and the module name is LineProfiler.It gives a detailed report on the time consumed by a program."
   ]
  },
  {
   "cell_type": "code",
   "execution_count": 134,
   "id": "ee65753f-41f1-4790-b24b-134db854e37f",
   "metadata": {},
   "outputs": [],
   "source": [
    "# !pip install  line_profiler"
   ]
  },
  {
   "cell_type": "code",
   "execution_count": 136,
   "id": "74ebf16d-7a28-459d-b1f7-c4290b1ac7ab",
   "metadata": {},
   "outputs": [
    {
     "name": "stdout",
     "output_type": "stream",
     "text": [
      "profile_perf testing\n",
      "Timer unit: 1e-09 s\n",
      "\n"
     ]
    },
    {
     "name": "stderr",
     "output_type": "stream",
     "text": [
      "/tmp/ipykernel_5809/1539101778.py:10: UserWarning: Could not extract a code object for the object None\n",
      "  profile = LineProfiler(profile_perf(arg))\n"
     ]
    }
   ],
   "source": [
    "# importing line_profiler module\n",
    "from line_profiler import LineProfiler\n",
    "\n",
    "\n",
    "def profile_perf(rk):\n",
    "\tprint(rk)\n",
    "\n",
    "\n",
    "arg= \"profile_perf testing\"\n",
    "profile = LineProfiler(profile_perf(arg))\n",
    "profile.print_stats()\n"
   ]
  },
  {
   "cell_type": "code",
   "execution_count": null,
   "id": "c43a6a3b-aae3-469e-9cbe-508b3d047dbe",
   "metadata": {},
   "outputs": [],
   "source": []
  },
  {
   "cell_type": "code",
   "execution_count": null,
   "id": "cdee1bc9-b38e-4b69-8262-dc7904755fa5",
   "metadata": {},
   "outputs": [],
   "source": []
  },
  {
   "cell_type": "markdown",
   "id": "64a10442-43ef-4979-a0a8-e5f1139ad219",
   "metadata": {},
   "source": [
    "### Python cProfile\n",
    "- Python includes a built-in module called cProfile which is used to measure the execution time of a program. The cProfiler module provides all information about how long the program is executing and how many times the function gets called in a program. The Python cprofile example:"
   ]
  },
  {
   "cell_type": "code",
   "execution_count": 139,
   "id": "5a71523b-f441-442f-a75c-90b49d1feb41",
   "metadata": {},
   "outputs": [
    {
     "name": "stdout",
     "output_type": "stream",
     "text": [
      "         3 function calls in 0.000 seconds\n",
      "\n",
      "   Ordered by: standard name\n",
      "\n",
      "   ncalls  tottime  percall  cumtime  percall filename:lineno(function)\n",
      "        1    0.000    0.000    0.000    0.000 <string>:1(<module>)\n",
      "        1    0.000    0.000    0.000    0.000 {built-in method builtins.exec}\n",
      "        1    0.000    0.000    0.000    0.000 {method 'disable' of '_lsprof.Profiler' objects}\n",
      "\n",
      "\n"
     ]
    }
   ],
   "source": [
    "# importing cProfile\n",
    "import cProfile\n",
    "\n",
    "cProfile.run(\"10 + 10\")\n"
   ]
  },
  {
   "cell_type": "code",
   "execution_count": 124,
   "id": "8e37ae4a-09e7-4b33-a8b5-85d0b8d54ec6",
   "metadata": {},
   "outputs": [
    {
     "name": "stdout",
     "output_type": "stream",
     "text": [
      "         746 function calls (731 primitive calls) in 0.513 seconds\n",
      "\n",
      "   Ordered by: call count\n",
      "\n",
      "   ncalls  tottime  percall  cumtime  percall filename:lineno(function)\n",
      "  152/148    0.000    0.000    0.000    0.000 {built-in method builtins.isinstance}\n",
      "       72    0.000    0.000    0.000    0.000 enum.py:1544(_get_value)\n",
      "       31    0.000    0.000    0.000    0.000 enum.py:1129(__new__)\n",
      "       31    0.000    0.000    0.000    0.000 enum.py:726(__call__)\n",
      "       28    0.000    0.000    0.000    0.000 typing.py:2182(cast)\n",
      "       22    0.000    0.000    0.000    0.000 {built-in method builtins.len}\n",
      "       16    0.000    0.000    0.000    0.000 enum.py:1551(__or__)\n",
      "       14    0.000    0.000    0.000    0.000 socket.py:621(send)\n",
      "       10    0.000    0.000    0.000    0.000 {built-in method builtins.hasattr}\n",
      "       10    0.000    0.000    0.000    0.000 inspect.py:2804(kind)\n",
      "        9    0.000    0.000    0.000    0.000 {method 'popleft' of 'collections.deque' objects}\n",
      "        8    0.000    0.000    0.000    0.000 {method '__exit__' of '_thread.lock' objects}\n",
      "        8    0.000    0.000    0.000    0.000 {method 'append' of 'collections.deque' objects}\n",
      "        8    0.000    0.000    0.000    0.000 traitlets.py:629(get)\n",
      "        8    0.000    0.000    0.000    0.000 traitlets.py:676(__get__)\n",
      "        8    0.000    0.000    0.000    0.000 enum.py:1562(__and__)\n",
      "        6    0.000    0.000    0.000    0.000 {built-in method builtins.next}\n",
      "        6    0.000    0.000    0.000    0.000 {method 'append' of 'list' objects}\n",
      "        6    0.000    0.000    0.000    0.000 typing.py:392(inner)\n",
      "        5    0.000    0.000    0.000    0.000 <frozen importlib._bootstrap>:1390(_handle_fromlist)\n",
      "        5    0.493    0.099    0.493    0.099 {built-in method time.sleep}\n",
      "        5    0.000    0.000    0.000    0.000 {built-in method time.monotonic}\n",
      "      5/2    0.000    0.000    0.001    0.000 {method 'run' of '_contextvars.Context' objects}\n",
      "        5    0.000    0.000    0.000    0.000 {built-in method builtins.getattr}\n",
      "        5    0.000    0.000    0.000    0.000 {built-in method builtins.max}\n",
      "        5    0.000    0.000    0.000    0.000 {method 'upper' of 'str' objects}\n",
      "        5    0.000    0.000    0.000    0.000 attrsettr.py:42(__getattr__)\n",
      "      5/2    0.000    0.000    0.001    0.001 events.py:86(_run)\n",
      "        5    0.000    0.000    0.493    0.099 3026349102.py:4(function_a)\n",
      "        5    0.012    0.002    0.012    0.002 3026349102.py:7(function_b)\n",
      "        5    0.000    0.000    0.000    0.000 zmqstream.py:562(receiving)\n",
      "        5    0.000    0.000    0.000    0.000 attrsettr.py:65(_get_attr_opt)\n",
      "        5    0.000    0.000    0.000    0.000 base_events.py:734(time)\n",
      "        5    0.000    0.000    0.000    0.000 base_events.py:2004(get_debug)\n",
      "        4    0.000    0.000    0.000    0.000 {built-in method builtins.hash}\n",
      "        4    0.000    0.000    0.000    0.000 {method 'get' of 'dict' objects}\n",
      "        4    0.000    0.000    0.000    0.000 selector_events.py:750(_process_events)\n",
      "        4    0.000    0.000    0.000    0.000 zmqstream.py:566(sending)\n",
      "        4    0.000    0.000    0.000    0.000 queue.py:209(_qsize)\n",
      "        4    0.000    0.000    0.000    0.000 queue.py:97(empty)\n",
      "        4    0.000    0.000    0.000    0.000 inspect.py:2792(name)\n",
      "        4    0.000    0.000    0.000    0.000 inspect.py:3085(parameters)\n",
      "        4    0.000    0.000    0.000    0.000 typing.py:1285(__hash__)\n",
      "        3    0.000    0.000    0.000    0.000 {method 'acquire' of '_thread.lock' objects}\n",
      "        3    0.000    0.000    0.000    0.000 {method 'items' of 'mappingproxy' objects}\n",
      "        3    0.000    0.000    0.001    0.000 base_events.py:1909(_run_once)\n",
      "        3    0.000    0.000    0.000    0.000 zmqstream.py:710(_update_handler)\n",
      "        3    0.000    0.000    0.000    0.000 zmqstream.py:687(_rebuild_io_state)\n",
      "        3    0.000    0.000    0.000    0.000 base_events.py:539(_check_closed)\n",
      "        3    0.000    0.000    0.000    0.000 base_events.py:814(_call_soon)\n",
      "        3    0.000    0.000    0.000    0.000 events.py:36(__init__)\n",
      "        3    0.000    0.000    0.000    0.000 threading.py:299(__enter__)\n",
      "        3    0.000    0.000    0.000    0.000 threading.py:302(__exit__)\n",
      "        2    0.000    0.000    0.000    0.000 <frozen abc>:121(__subclasscheck__)\n",
      "        2    0.000    0.000    0.000    0.000 {built-in method _abc._abc_subclasscheck}\n",
      "        2    0.000    0.000    0.000    0.000 {method '__enter__' of '_thread.lock' objects}\n",
      "        2    0.000    0.000    0.000    0.000 {built-in method posix.getpid}\n",
      "      2/1    0.000    0.000    0.513    0.513 {built-in method builtins.exec}\n",
      "        2    0.000    0.000    0.000    0.000 {built-in method builtins.issubclass}\n",
      "        2    0.000    0.000    0.000    0.000 {built-in method builtins.iter}\n",
      "        2    0.000    0.000    0.000    0.000 {method 'extend' of 'list' objects}\n",
      "      2/1    0.000    0.000    0.000    0.000 selectors.py:451(select)\n",
      "        2    0.000    0.000    0.000    0.000 socket.py:698(send_multipart)\n",
      "        2    0.000    0.000    0.000    0.000 socket.py:777(recv_multipart)\n",
      "        2    0.000    0.000    0.000    0.000 traitlets.py:689(set)\n",
      "        2    0.000    0.000    0.000    0.000 traitlets.py:727(_cross_validate)\n",
      "        2    0.000    0.000    0.000    0.000 traitlets.py:3486(validate_elements)\n",
      "        2    0.000    0.000    0.001    0.000 zmqstream.py:648(_handle_recv)\n",
      "        2    0.000    0.000    0.001    0.000 zmqstream.py:607(_handle_events)\n",
      "        2    0.000    0.000    0.000    0.000 queues.py:322(_consume_expired)\n",
      "      2/1    0.000    0.000    0.505    0.505 3026349102.py:11(main_function)\n",
      "      2/1    0.000    0.000    0.513    0.513 <string>:1(<module>)\n",
      "        2    0.000    0.000    0.000    0.000 iostream.py:254(closed)\n",
      "        2    0.000    0.000    0.001    0.000 iostream.py:275(<lambda>)\n",
      "        2    0.000    0.000    0.000    0.000 iostream.py:212(_is_master_process)\n",
      "        2    0.000    0.000    0.001    0.000 iostream.py:156(_handle_event)\n",
      "        2    0.000    0.000    0.000    0.000 iostream.py:215(_check_mp_mode)\n",
      "        2    0.000    0.000    0.000    0.000 iostream.py:277(_really_send)\n",
      "        2    0.007    0.003    0.007    0.003 {method '__exit__' of 'sqlite3.Connection' objects}\n",
      "        2    0.000    0.000    0.000    0.000 traitlets.py:708(__set__)\n",
      "        2    0.000    0.000    0.000    0.000 traitlets.py:3631(set)\n",
      "        2    0.000    0.000    0.000    0.000 ioloop.py:742(_run_callback)\n",
      "        2    0.000    0.000    0.000    0.000 traitlets.py:2304(validate)\n",
      "        2    0.000    0.000    0.000    0.000 traitlets.py:3624(validate_elements)\n",
      "        2    0.000    0.000    0.001    0.000 zmqstream.py:580(_run_callback)\n",
      "        2    0.000    0.000    0.000    0.000 {method 'set_result' of '_asyncio.Future' objects}\n",
      "        2    0.000    0.000    0.000    0.000 {method 'cancelled' of '_asyncio.Future' objects}\n",
      "        2    0.000    0.000    0.000    0.000 traitlets.py:3474(validate)\n",
      "        2    0.000    0.000    0.000    0.000 traitlets.py:718(_validate)\n",
      "        2    0.000    0.000    0.000    0.000 {method 'recv' of '_socket.socket' objects}\n",
      "        2    0.000    0.000    0.000    0.000 {built-in method _contextvars.copy_context}\n",
      "        2    0.000    0.000    0.000    0.000 base_events.py:1894(_add_callback)\n",
      "        2    0.000    0.000    0.000    0.000 selectors.py:275(_key_from_fd)\n",
      "        2    0.000    0.000    0.000    0.000 base_events.py:785(call_soon)\n",
      "        2    0.000    0.000    0.000    0.000 typing.py:1221(__instancecheck__)\n",
      "        2    0.000    0.000    0.000    0.000 typing.py:1492(__subclasscheck__)\n",
      "      2/1    0.000    0.000    0.000    0.000 {method 'poll' of 'select.epoll' objects}\n",
      "        1    0.000    0.000    0.000    0.000 {method 'release' of '_thread.lock' objects}\n",
      "        1    0.000    0.000    0.000    0.000 {method '_is_owned' of '_thread.RLock' objects}\n",
      "        1    0.000    0.000    0.000    0.000 {method '__enter__' of '_thread.RLock' objects}\n",
      "        1    0.000    0.000    0.000    0.000 {method '__exit__' of '_thread.RLock' objects}\n",
      "        1    0.000    0.000    0.000    0.000 {built-in method _thread.allocate_lock}\n",
      "        1    0.000    0.000    0.000    0.000 {built-in method builtins.min}\n",
      "        1    0.000    0.000    0.000    0.000 {method 'values' of 'mappingproxy' objects}\n",
      "        1    0.000    0.000    0.000    0.000 _base.py:537(set_result)\n",
      "        1    0.000    0.000    0.000    0.000 inspect.py:2892(args)\n",
      "        1    0.000    0.000    0.000    0.000 inspect.py:3129(_bind)\n",
      "        1    0.000    0.000    0.000    0.000 inspect.py:2915(kwargs)\n",
      "        1    0.000    0.000    0.000    0.000 inspect.py:2945(apply_defaults)\n",
      "        1    0.000    0.000    0.000    0.000 traitlets.py:1527(_notify_observers)\n",
      "        1    0.000    0.000    0.000    0.000 zmqstream.py:452(flush)\n",
      "        1    0.000    0.000    0.000    0.000 queues.py:209(put_nowait)\n",
      "        1    0.000    0.000    0.007    0.007 history.py:845(writeout_cache)\n",
      "        1    0.000    0.000    0.000    0.000 queues.py:256(get_nowait)\n",
      "        1    0.000    0.000    0.000    0.000 asyncio.py:225(add_callback)\n",
      "        1    0.000    0.000    0.001    0.001 asyncio.py:200(_handle_events)\n",
      "        1    0.000    0.000    0.000    0.000 queues.py:317(__put_internal)\n",
      "        1    0.000    0.000    0.000    0.000 queues.py:173(qsize)\n",
      "        1    0.000    0.000    0.000    0.000 queues.py:177(empty)\n",
      "        1    0.000    0.000    0.000    0.000 locks.py:224(clear)\n",
      "        1    0.000    0.000    0.000    0.000 queues.py:225(get)\n",
      "        1    0.000    0.000    0.000    0.000 queues.py:59(_set_timeout)\n",
      "        1    0.000    0.000    0.000    0.000 queues.py:186(put)\n",
      "        1    0.000    0.000    0.000    0.000 queues.py:309(_get)\n",
      "        1    0.000    0.000    0.000    0.000 queues.py:312(_put)\n",
      "        1    0.000    0.000    0.000    0.000 kernelbase.py:316(_flush)\n",
      "        1    0.000    0.000    0.000    0.000 kernelbase.py:294(poll_control_queue)\n",
      "        1    0.000    0.000    0.008    0.008 history.py:55(only_when_enabled)\n",
      "        1    0.000    0.000    0.007    0.007 history.py:833(_writeout_input_cache)\n",
      "        1    0.000    0.000    0.000    0.000 history.py:839(_writeout_output_cache)\n",
      "        1    0.000    0.000    0.000    0.000 decorator.py:199(fix)\n",
      "        1    0.000    0.000    0.008    0.008 decorator.py:229(fun)\n",
      "        1    0.000    0.000    0.000    0.000 zmqstream.py:683(_check_closed)\n",
      "        1    0.000    0.000    0.000    0.000 zmqstream.py:718(<lambda>)\n",
      "        1    0.000    0.000    0.000    0.000 {method 'disable' of '_lsprof.Profiler' objects}\n",
      "        1    0.000    0.000    0.000    0.000 {method 'execute' of 'sqlite3.Connection' objects}\n",
      "        1    0.000    0.000    0.000    0.000 concurrent.py:182(future_set_result_unless_cancelled)\n",
      "        1    0.000    0.000    0.000    0.000 zmqstream.py:491(update_flag)\n",
      "        1    0.000    0.000    0.000    0.000 unix_events.py:81(_process_self_data)\n",
      "        1    0.000    0.000    0.000    0.000 traitlets.py:1512(_notify_trait)\n",
      "        1    0.000    0.000    0.000    0.000 traitlets.py:1523(notify_change)\n",
      "        1    0.000    0.000    0.000    0.000 {built-in method _asyncio.get_running_loop}\n",
      "        1    0.000    0.000    0.000    0.000 {method 'done' of '_asyncio.Future' objects}\n",
      "        1    0.000    0.000    0.000    0.000 inspect.py:3268(bind)\n",
      "        1    0.000    0.000    0.000    0.000 selector_events.py:129(_read_from_self)\n",
      "        1    0.000    0.000    0.000    0.000 selector_events.py:141(_write_to_self)\n",
      "        1    0.000    0.000    0.000    0.000 {method 'send' of '_socket.socket' objects}\n",
      "        1    0.000    0.000    0.000    0.000 inspect.py:2884(__init__)\n",
      "        1    0.000    0.000    0.000    0.000 futures.py:398(_call_set_state)\n",
      "        1    0.000    0.000    0.000    0.000 _base.py:337(_invoke_callbacks)\n",
      "        1    0.000    0.000    0.000    0.000 base_events.py:720(is_closed)\n",
      "        1    0.000    0.000    0.000    0.000 threading.py:308(_release_save)\n",
      "        1    0.000    0.000    0.000    0.000 threading.py:311(_acquire_restore)\n",
      "        1    0.000    0.000    0.000    0.000 threading.py:314(_is_owned)\n",
      "        1    0.000    0.000    0.000    0.000 threading.py:394(notify)\n",
      "        1    0.000    0.000    0.000    0.000 poll.py:78(poll)\n",
      "        1    0.000    0.000    0.000    0.000 threading.py:424(notify_all)\n",
      "        1    0.000    0.000    0.000    0.000 threading.py:627(clear)\n",
      "        1    0.000    0.000    0.000    0.000 base_events.py:838(call_soon_threadsafe)\n",
      "        1    0.000    0.000    0.000    0.000 poll.py:29(register)\n",
      "        1    0.000    0.000    0.000    0.000 {built-in method math.ceil}\n",
      "\n",
      "\n"
     ]
    }
   ],
   "source": [
    "import cProfile\n",
    "import time\n",
    "\n",
    "def function_a():\n",
    "    time.sleep(0.1)\n",
    "\n",
    "def function_b():\n",
    "    for _ in range(100000):\n",
    "        pass\n",
    "\n",
    "def main_function():\n",
    "    for _ in range(5):\n",
    "        function_a()\n",
    "        function_b()\n",
    "\n",
    "if __name__ == \"__main__\":\n",
    "    cProfile.run(\"main_function()\", sort='ncalls')\n",
    "    cProfile.run(\"main_function()\", \"profile_output.txt\", sort=\"ncalls\", )"
   ]
  },
  {
   "cell_type": "code",
   "execution_count": 141,
   "id": "8719bac1-424a-4df1-aed3-c684b56eefd8",
   "metadata": {},
   "outputs": [],
   "source": [
    "class A:\n",
    "    def add(a, b):\n",
    "        return a+b\n",
    "\n",
    "def add(a, b):\n",
    "    return a+b\n"
   ]
  },
  {
   "cell_type": "code",
   "execution_count": 143,
   "id": "e2ebf4fa-6c28-4dcc-83e2-a8c3ddc8b8a6",
   "metadata": {},
   "outputs": [
    {
     "name": "stdout",
     "output_type": "stream",
     "text": [
      "         4 function calls in 0.000 seconds\n",
      "\n",
      "   Ordered by: standard name\n",
      "\n",
      "   ncalls  tottime  percall  cumtime  percall filename:lineno(function)\n",
      "        1    0.000    0.000    0.000    0.000 3047988802.py:2(add)\n",
      "        1    0.000    0.000    0.000    0.000 <string>:1(<module>)\n",
      "        1    0.000    0.000    0.000    0.000 {built-in method builtins.exec}\n",
      "        1    0.000    0.000    0.000    0.000 {method 'disable' of '_lsprof.Profiler' objects}\n",
      "\n",
      "\n"
     ]
    }
   ],
   "source": [
    "cProfile.run('A.add(5, 6)')"
   ]
  },
  {
   "cell_type": "code",
   "execution_count": 145,
   "id": "aef4164f-5c74-4837-97ed-cb556cd6b3c0",
   "metadata": {},
   "outputs": [
    {
     "name": "stdout",
     "output_type": "stream",
     "text": [
      "         4 function calls in 0.000 seconds\n",
      "\n",
      "   Ordered by: standard name\n",
      "\n",
      "   ncalls  tottime  percall  cumtime  percall filename:lineno(function)\n",
      "        1    0.000    0.000    0.000    0.000 3047988802.py:5(add)\n",
      "        1    0.000    0.000    0.000    0.000 <string>:1(<module>)\n",
      "        1    0.000    0.000    0.000    0.000 {built-in method builtins.exec}\n",
      "        1    0.000    0.000    0.000    0.000 {method 'disable' of '_lsprof.Profiler' objects}\n",
      "\n",
      "\n"
     ]
    }
   ],
   "source": [
    "cProfile.run('add(5, 6)')"
   ]
  },
  {
   "cell_type": "markdown",
   "id": "226417bd-ab2e-48ee-9f62-9716e2b5360a",
   "metadata": {},
   "source": [
    "## <div class=\"alert alert-danger\"> Use CI/CD Pipelines"
   ]
  },
  {
   "cell_type": "markdown",
   "id": "327e1a05-231e-4d1b-a06c-5f74c1c9adc7",
   "metadata": {},
   "source": [
    "- Continuous Integration is a software development practice where members of a team integrate their work frequently, usually each person integrates at least daily - leading to multiple integrations per day. Each integration is verified by an automated build (including test) to detect integration errors as quickly as possible.\n",
    "- Set up Continuous Integration/Continuous Deployment (CI/CD) pipelines using tools like GitHub Actions, GitLab CI, or Jenkins.\n",
    "- Automate testing, linting, and deployment."
   ]
  },
  {
   "cell_type": "markdown",
   "id": "961c2f91-2588-414f-aa8c-8556a1ab4e3d",
   "metadata": {},
   "source": [
    "## <div class=\"alert alert-success\"> Collaborate Effectively"
   ]
  },
  {
   "cell_type": "markdown",
   "id": "45209fa9-f91f-44ae-8987-5fcc9a170dfe",
   "metadata": {},
   "source": [
    "- Use code reviews to maintain code quality.\n",
    "- Follow a consistent coding style across the team.\n",
    "- Use tools like pre-commit to "
   ]
  },
  {
   "cell_type": "markdown",
   "id": "5ba8dbad-3f8a-4258-9177-9fd470d7677d",
   "metadata": {},
   "source": [
    "## <div class=\"alert alert-info\">                                    ~END~\n"
   ]
  }
 ],
 "metadata": {
  "kernelspec": {
   "display_name": "Python [conda env:base] *",
   "language": "python",
   "name": "conda-base-py"
  },
  "language_info": {
   "codemirror_mode": {
    "name": "ipython",
    "version": 3
   },
   "file_extension": ".py",
   "mimetype": "text/x-python",
   "name": "python",
   "nbconvert_exporter": "python",
   "pygments_lexer": "ipython3",
   "version": "3.12.7"
  }
 },
 "nbformat": 4,
 "nbformat_minor": 5
}
